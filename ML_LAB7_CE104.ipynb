{
  "nbformat": 4,
  "nbformat_minor": 0,
  "metadata": {
    "colab": {
      "provenance": []
    },
    "kernelspec": {
      "name": "python3",
      "display_name": "Python 3"
    },
    "language_info": {
      "name": "python"
    }
  },
  "cells": [
    {
      "cell_type": "code",
      "execution_count": null,
      "metadata": {
        "id": "VOErz9cOz6If"
      },
      "outputs": [],
      "source": [
        "import numpy as np\n",
        "import pandas as pd\n",
        "import io\n",
        "import matplotlib.pyplot as plt\n",
        "from sklearn.model_selection import train_test_split\n",
        "from sklearn.preprocessing import StandardScaler\n",
        "from sklearn.linear_model import LogisticRegression\n",
        "import matplotlib.pyplot as plt\n",
        "import seaborn as sns\n",
        "from sklearn import metrics\n",
        "from torch.nn.functional import binary_cross_entropy\n",
        "import random\n",
        "import torch\n",
        "import math\n",
        "from sklearn.metrics import f1_score,recall_score,precision_score,accuracy_score"
      ]
    },
    {
      "cell_type": "code",
      "source": [
        "data = pd.read_csv('/content/drive/MyDrive/ML_Dataset/BuyComputer.csv')\n",
        "data.drop(columns=['User ID',],axis=1,inplace=True)\n",
        "# data.head()"
      ],
      "metadata": {
        "id": "1yv20mFP03HV"
      },
      "execution_count": null,
      "outputs": []
    },
    {
      "cell_type": "code",
      "source": [
        "from google.colab import drive\n",
        "drive.mount('/content/drive')"
      ],
      "metadata": {
        "colab": {
          "base_uri": "https://localhost:8080/"
        },
        "id": "nAZjTwdhv_fh",
        "outputId": "31a4f031-773f-4025-fa6b-137af4027cd6"
      },
      "execution_count": null,
      "outputs": [
        {
          "output_type": "stream",
          "name": "stdout",
          "text": [
            "Mounted at /content/drive\n"
          ]
        }
      ]
    },
    {
      "cell_type": "code",
      "source": [
        "df = pd.DataFrame(data)\n",
        "X = df.drop([\"Purchased\"], axis=1)\n",
        "y = df[\"Purchased\"]\n",
        "X_train, X_test, y_train, y_test = train_test_split(X,y,test_size = 0.05)\n",
        "X_train"
      ],
      "metadata": {
        "id": "N31_uSSb1vyt",
        "colab": {
          "base_uri": "https://localhost:8080/",
          "height": 423
        },
        "outputId": "dc1bae27-8149-448d-8629-6698c8356498"
      },
      "execution_count": null,
      "outputs": [
        {
          "output_type": "execute_result",
          "data": {
            "text/plain": [
              "     Age  EstimatedSalary\n",
              "157   29            75000\n",
              "198   26            80000\n",
              "361   53            34000\n",
              "165   18            86000\n",
              "61    25            87000\n",
              "..   ...              ...\n",
              "190   24            84000\n",
              "320   52           138000\n",
              "151   41            45000\n",
              "154   40            47000\n",
              "16    47            25000\n",
              "\n",
              "[380 rows x 2 columns]"
            ],
            "text/html": [
              "\n",
              "  <div id=\"df-29101be3-236f-41ec-b1bf-77da3e3ea7b8\">\n",
              "    <div class=\"colab-df-container\">\n",
              "      <div>\n",
              "<style scoped>\n",
              "    .dataframe tbody tr th:only-of-type {\n",
              "        vertical-align: middle;\n",
              "    }\n",
              "\n",
              "    .dataframe tbody tr th {\n",
              "        vertical-align: top;\n",
              "    }\n",
              "\n",
              "    .dataframe thead th {\n",
              "        text-align: right;\n",
              "    }\n",
              "</style>\n",
              "<table border=\"1\" class=\"dataframe\">\n",
              "  <thead>\n",
              "    <tr style=\"text-align: right;\">\n",
              "      <th></th>\n",
              "      <th>Age</th>\n",
              "      <th>EstimatedSalary</th>\n",
              "    </tr>\n",
              "  </thead>\n",
              "  <tbody>\n",
              "    <tr>\n",
              "      <th>157</th>\n",
              "      <td>29</td>\n",
              "      <td>75000</td>\n",
              "    </tr>\n",
              "    <tr>\n",
              "      <th>198</th>\n",
              "      <td>26</td>\n",
              "      <td>80000</td>\n",
              "    </tr>\n",
              "    <tr>\n",
              "      <th>361</th>\n",
              "      <td>53</td>\n",
              "      <td>34000</td>\n",
              "    </tr>\n",
              "    <tr>\n",
              "      <th>165</th>\n",
              "      <td>18</td>\n",
              "      <td>86000</td>\n",
              "    </tr>\n",
              "    <tr>\n",
              "      <th>61</th>\n",
              "      <td>25</td>\n",
              "      <td>87000</td>\n",
              "    </tr>\n",
              "    <tr>\n",
              "      <th>...</th>\n",
              "      <td>...</td>\n",
              "      <td>...</td>\n",
              "    </tr>\n",
              "    <tr>\n",
              "      <th>190</th>\n",
              "      <td>24</td>\n",
              "      <td>84000</td>\n",
              "    </tr>\n",
              "    <tr>\n",
              "      <th>320</th>\n",
              "      <td>52</td>\n",
              "      <td>138000</td>\n",
              "    </tr>\n",
              "    <tr>\n",
              "      <th>151</th>\n",
              "      <td>41</td>\n",
              "      <td>45000</td>\n",
              "    </tr>\n",
              "    <tr>\n",
              "      <th>154</th>\n",
              "      <td>40</td>\n",
              "      <td>47000</td>\n",
              "    </tr>\n",
              "    <tr>\n",
              "      <th>16</th>\n",
              "      <td>47</td>\n",
              "      <td>25000</td>\n",
              "    </tr>\n",
              "  </tbody>\n",
              "</table>\n",
              "<p>380 rows × 2 columns</p>\n",
              "</div>\n",
              "      <button class=\"colab-df-convert\" onclick=\"convertToInteractive('df-29101be3-236f-41ec-b1bf-77da3e3ea7b8')\"\n",
              "              title=\"Convert this dataframe to an interactive table.\"\n",
              "              style=\"display:none;\">\n",
              "        \n",
              "  <svg xmlns=\"http://www.w3.org/2000/svg\" height=\"24px\"viewBox=\"0 0 24 24\"\n",
              "       width=\"24px\">\n",
              "    <path d=\"M0 0h24v24H0V0z\" fill=\"none\"/>\n",
              "    <path d=\"M18.56 5.44l.94 2.06.94-2.06 2.06-.94-2.06-.94-.94-2.06-.94 2.06-2.06.94zm-11 1L8.5 8.5l.94-2.06 2.06-.94-2.06-.94L8.5 2.5l-.94 2.06-2.06.94zm10 10l.94 2.06.94-2.06 2.06-.94-2.06-.94-.94-2.06-.94 2.06-2.06.94z\"/><path d=\"M17.41 7.96l-1.37-1.37c-.4-.4-.92-.59-1.43-.59-.52 0-1.04.2-1.43.59L10.3 9.45l-7.72 7.72c-.78.78-.78 2.05 0 2.83L4 21.41c.39.39.9.59 1.41.59.51 0 1.02-.2 1.41-.59l7.78-7.78 2.81-2.81c.8-.78.8-2.07 0-2.86zM5.41 20L4 18.59l7.72-7.72 1.47 1.35L5.41 20z\"/>\n",
              "  </svg>\n",
              "      </button>\n",
              "      \n",
              "  <style>\n",
              "    .colab-df-container {\n",
              "      display:flex;\n",
              "      flex-wrap:wrap;\n",
              "      gap: 12px;\n",
              "    }\n",
              "\n",
              "    .colab-df-convert {\n",
              "      background-color: #E8F0FE;\n",
              "      border: none;\n",
              "      border-radius: 50%;\n",
              "      cursor: pointer;\n",
              "      display: none;\n",
              "      fill: #1967D2;\n",
              "      height: 32px;\n",
              "      padding: 0 0 0 0;\n",
              "      width: 32px;\n",
              "    }\n",
              "\n",
              "    .colab-df-convert:hover {\n",
              "      background-color: #E2EBFA;\n",
              "      box-shadow: 0px 1px 2px rgba(60, 64, 67, 0.3), 0px 1px 3px 1px rgba(60, 64, 67, 0.15);\n",
              "      fill: #174EA6;\n",
              "    }\n",
              "\n",
              "    [theme=dark] .colab-df-convert {\n",
              "      background-color: #3B4455;\n",
              "      fill: #D2E3FC;\n",
              "    }\n",
              "\n",
              "    [theme=dark] .colab-df-convert:hover {\n",
              "      background-color: #434B5C;\n",
              "      box-shadow: 0px 1px 3px 1px rgba(0, 0, 0, 0.15);\n",
              "      filter: drop-shadow(0px 1px 2px rgba(0, 0, 0, 0.3));\n",
              "      fill: #FFFFFF;\n",
              "    }\n",
              "  </style>\n",
              "\n",
              "      <script>\n",
              "        const buttonEl =\n",
              "          document.querySelector('#df-29101be3-236f-41ec-b1bf-77da3e3ea7b8 button.colab-df-convert');\n",
              "        buttonEl.style.display =\n",
              "          google.colab.kernel.accessAllowed ? 'block' : 'none';\n",
              "\n",
              "        async function convertToInteractive(key) {\n",
              "          const element = document.querySelector('#df-29101be3-236f-41ec-b1bf-77da3e3ea7b8');\n",
              "          const dataTable =\n",
              "            await google.colab.kernel.invokeFunction('convertToInteractive',\n",
              "                                                     [key], {});\n",
              "          if (!dataTable) return;\n",
              "\n",
              "          const docLinkHtml = 'Like what you see? Visit the ' +\n",
              "            '<a target=\"_blank\" href=https://colab.research.google.com/notebooks/data_table.ipynb>data table notebook</a>'\n",
              "            + ' to learn more about interactive tables.';\n",
              "          element.innerHTML = '';\n",
              "          dataTable['output_type'] = 'display_data';\n",
              "          await google.colab.output.renderOutput(dataTable, element);\n",
              "          const docLink = document.createElement('div');\n",
              "          docLink.innerHTML = docLinkHtml;\n",
              "          element.appendChild(docLink);\n",
              "        }\n",
              "      </script>\n",
              "    </div>\n",
              "  </div>\n",
              "  "
            ]
          },
          "metadata": {},
          "execution_count": 11
        }
      ]
    },
    {
      "cell_type": "code",
      "source": [
        "sc = StandardScaler()\n",
        "X_train = sc.fit_transform(X_train)\n",
        "X_test = sc.transform(X_test)\n",
        "# X_train"
      ],
      "metadata": {
        "id": "sFapNRUl28gf"
      },
      "execution_count": null,
      "outputs": []
    },
    {
      "cell_type": "code",
      "source": [
        "model = LogisticRegression()\n",
        "model.fit(X_train, y_train)\n",
        "y_pred = model.predict(X_test)\n",
        "y_pred"
      ],
      "metadata": {
        "id": "ArBxlXaO5fs_",
        "colab": {
          "base_uri": "https://localhost:8080/"
        },
        "outputId": "7ca6dec7-4aff-4a89-f964-f96466ca1d4d"
      },
      "execution_count": null,
      "outputs": [
        {
          "output_type": "execute_result",
          "data": {
            "text/plain": [
              "array([1, 0, 1, 1, 0, 0, 0, 0, 1, 0, 0, 1, 0, 0, 0, 1, 0, 1, 0, 1])"
            ]
          },
          "metadata": {},
          "execution_count": 13
        }
      ]
    },
    {
      "cell_type": "code",
      "source": [
        "cm = metrics.confusion_matrix(y_test, y_pred)\n",
        "cm"
      ],
      "metadata": {
        "id": "63gL4xnn6yLQ",
        "colab": {
          "base_uri": "https://localhost:8080/"
        },
        "outputId": "288e50f1-5f8d-4945-da57-cc4cbd17b7c4"
      },
      "execution_count": null,
      "outputs": [
        {
          "output_type": "execute_result",
          "data": {
            "text/plain": [
              "array([[12,  2],\n",
              "       [ 2,  4]])"
            ]
          },
          "metadata": {},
          "execution_count": 9
        }
      ]
    },
    {
      "cell_type": "markdown",
      "source": [
        "Manually Calculation"
      ],
      "metadata": {
        "id": "iEMl7rZ587_Z"
      }
    },
    {
      "cell_type": "code",
      "source": [
        "features = len(X_train)\n",
        "weights = []\n",
        "random.seed(5)\n",
        "for i in range(3):\n",
        "  weights.append(random.random())\n",
        "print(features)\n",
        "weights.append(random.random())"
      ],
      "metadata": {
        "id": "7r3EaKkz-2C5",
        "colab": {
          "base_uri": "https://localhost:8080/"
        },
        "outputId": "cf488d21-eb35-4b9b-df56-37b41af7247b"
      },
      "execution_count": null,
      "outputs": [
        {
          "output_type": "stream",
          "name": "stdout",
          "text": [
            "380\n"
          ]
        }
      ]
    },
    {
      "cell_type": "code",
      "source": [
        "def calculateIn(x,y,weights):\n",
        "  # x=1\n",
        "  # print(weights)\n",
        "  ans=weights[0] + weights[1]*x + weights[2]*y\n",
        "  return ans"
      ],
      "metadata": {
        "id": "Y0tCKcQY-xLy"
      },
      "execution_count": null,
      "outputs": []
    },
    {
      "cell_type": "code",
      "source": [
        "def sigmoid(input):\n",
        "  return 1/(1 + np.exp(-input))"
      ],
      "metadata": {
        "id": "V2AsdMu5DS3k"
      },
      "execution_count": null,
      "outputs": []
    },
    {
      "cell_type": "code",
      "source": [
        "def prediction(inputs,weights):\n",
        "  y_pred = []\n",
        "  # inputs.to_numpy()\n",
        "  samples = len(inputs)\n",
        "  # print(inputs)\n",
        "  for x in range(samples):\n",
        "    temp = calculateIn(inputs[x][0],inputs[x][1],weights)\n",
        "    num =sigmoid(temp)\n",
        "    # if(num>0.5):\n",
        "    #   num = 1\n",
        "    # else:\n",
        "    #   num = 0\n",
        "    y_pred.append(num)\n",
        "  return y_pred"
      ],
      "metadata": {
        "id": "QOfAOQzg9A9Y"
      },
      "execution_count": null,
      "outputs": []
    },
    {
      "cell_type": "code",
      "source": [
        "y_pred_man = prediction(X_train,weights)\n",
        "# y_pred_man"
      ],
      "metadata": {
        "id": "u8dxZJk_DiuL"
      },
      "execution_count": null,
      "outputs": []
    },
    {
      "cell_type": "code",
      "source": [
        "def update_para(lossVal,weights):\n",
        "  learning_rate = 0.2\n",
        "  weights_new = []\n",
        "  for i in range(len(weights)):\n",
        "    weights_torch = torch.tensor(weights[i],requires_grad=True)\n",
        "    # print(weights_torch)\n",
        "    loss_torch = torch.tensor(lossVal,dtype=torch.float64,requires_grad=True)\n",
        "    loss_torch.backward()\n",
        "    # print(weights_torch)\n",
        "    weights_new.append(weights[i] - learning_rate*(loss_torch.grad))\n",
        "    # print(loss_torch.grad)\n",
        "  return weights_new\n",
        "  "
      ],
      "metadata": {
        "id": "z-vjzOyglzJJ"
      },
      "execution_count": null,
      "outputs": []
    },
    {
      "cell_type": "code",
      "source": [
        "def loss(y_pred,y_act):\n",
        "  temp = pd.Series(y_act)\n",
        "  y_act = temp.to_numpy()\n",
        "  y_pred = np.array(y_pred)\n",
        "  n = y_pred.shape[0]\n",
        "  lossVal = 0\n",
        "  for i in range(n):\n",
        "    lossVal = lossVal - (y_act[i]*math.log(y_pred[i],2) ) - ( (1-y_act[i]) * math.log(1-y_pred[i],2) )\n",
        "  # print(lossVal)\n",
        "  return lossVal"
      ],
      "metadata": {
        "id": "G-A6Z4pPMnIp"
      },
      "execution_count": null,
      "outputs": []
    },
    {
      "cell_type": "code",
      "source": [
        "loop = 100\n",
        "weights_new = []\n",
        "for i in range(loop):\n",
        "  lossVal = loss(y_pred_man,y_train)\n",
        "  weights_new = update_para(lossVal,weights)\n",
        "  # print(weights_new)\n",
        "  y_pred_man = prediction(X_train,weights_new)\n",
        "  # print(y_pred_man)"
      ],
      "metadata": {
        "id": "sEcdRZPYhpAP"
      },
      "execution_count": null,
      "outputs": []
    },
    {
      "cell_type": "code",
      "source": [
        "y_pred_test = prediction(X_test,weights_new)\n",
        "y_pred_test = np.array(y_pred_test)\n",
        "for i in range(len(y_pred_test)):\n",
        "  if(y_pred_test[i]>0.5):\n",
        "    y_pred_test[i] = 1\n",
        "  else:\n",
        "    y_pred_test[i] = 0\n",
        "precision_score(y_test, y_pred_test), accuracy_score(y_test,  y_pred_test), recall_score(y_test,  y_pred_test), f1_score(y_test,  y_pred_test)"
      ],
      "metadata": {
        "colab": {
          "base_uri": "https://localhost:8080/"
        },
        "id": "w8ZjoyKN6tSf",
        "outputId": "efe2e19b-2784-49c7-c67f-3a883b495f8b"
      },
      "execution_count": null,
      "outputs": [
        {
          "output_type": "execute_result",
          "data": {
            "text/plain": [
              "(0.375, 0.5, 1.0, 0.5454545454545454)"
            ]
          },
          "metadata": {},
          "execution_count": 18
        }
      ]
    },
    {
      "cell_type": "markdown",
      "source": [
        "Exercise"
      ],
      "metadata": {
        "id": "xyCwAQHgunUv"
      }
    },
    {
      "cell_type": "code",
      "source": [
        "model1 = LogisticRegression(random_state=104)\n",
        "\n",
        "model1.fit(X_train, y_train)\n",
        "y_pred = model1.predict(X_test)\n",
        "y_pred\n",
        "\n",
        "cm = metrics.confusion_matrix(y_test, y_pred)\n",
        "cm\n",
        "# X_train,y_train\n",
        "# np.array(X_test)"
      ],
      "metadata": {
        "colab": {
          "base_uri": "https://localhost:8080/"
        },
        "id": "dcnUR2qEuo5b",
        "outputId": "32bab8c0-9874-46c0-b42f-7b65e4565073"
      },
      "execution_count": null,
      "outputs": [
        {
          "output_type": "execute_result",
          "data": {
            "text/plain": [
              "array([[11,  2],\n",
              "       [ 1,  6]])"
            ]
          },
          "metadata": {},
          "execution_count": 15
        }
      ]
    },
    {
      "cell_type": "code",
      "source": [
        "for i in range(len(y_pred)):\n",
        "  if(y_pred[i]>0.5):\n",
        "    y_pred[i] = 1\n",
        "  else:\n",
        "    y_pred[i] = 0\n",
        "precision_score(y_test, y_pred), accuracy_score(y_test,  y_pred), recall_score(y_test,  y_pred), f1_score(y_test,  y_pred)"
      ],
      "metadata": {
        "colab": {
          "base_uri": "https://localhost:8080/"
        },
        "id": "_LCKIsvrwrr5",
        "outputId": "74866714-5abc-45a6-be91-1f30be5e34f8"
      },
      "execution_count": null,
      "outputs": [
        {
          "output_type": "execute_result",
          "data": {
            "text/plain": [
              "(0.75, 0.85, 0.8571428571428571, 0.7999999999999999)"
            ]
          },
          "metadata": {},
          "execution_count": 17
        }
      ]
    },
    {
      "cell_type": "code",
      "source": [
        "predicted_val = model.predict([[12,16000]])\n",
        "predicted_val[0]"
      ],
      "metadata": {
        "colab": {
          "base_uri": "https://localhost:8080/"
        },
        "id": "f_XLN3dcyV7w",
        "outputId": "49202c10-ff9e-4a8b-d2cb-8ac17817a90c"
      },
      "execution_count": null,
      "outputs": [
        {
          "output_type": "execute_result",
          "data": {
            "text/plain": [
              "1"
            ]
          },
          "metadata": {},
          "execution_count": 18
        }
      ]
    }
  ]
}