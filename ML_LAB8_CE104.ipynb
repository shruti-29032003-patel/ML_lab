{
  "nbformat": 4,
  "nbformat_minor": 0,
  "metadata": {
    "colab": {
      "provenance": []
    },
    "kernelspec": {
      "name": "python3",
      "display_name": "Python 3"
    },
    "language_info": {
      "name": "python"
    }
  },
  "cells": [
    {
      "cell_type": "code",
      "execution_count": null,
      "metadata": {
        "id": "9rSdJWlJ3cns"
      },
      "outputs": [],
      "source": [
        "from sklearn.datasets import load_breast_cancer\n",
        "import numpy as np\n",
        "import pandas as pd\n",
        "from sklearn.model_selection import train_test_split\n",
        "from sklearn.tree import DecisionTreeRegressor \n",
        "from sklearn.linear_model import LinearRegression\n",
        "from sklearn.metrics import f1_score,recall_score,precision_score,accuracy_score\n",
        "from sklearn.datasets import load_diabetes\n",
        "from sklearn.metrics import mean_absolute_error,r2_score,mean_squared_error\n",
        "from sklearn.preprocessing import PolynomialFeatures\n",
        "from sklearn.svm import SVR\n",
        "from sklearn.ensemble import RandomForestClassifier, StackingClassifier\n",
        "from sklearn.ensemble import StackingRegressor\n",
        "from sklearn.ensemble import AdaBoostClassifier\n",
        "from sklearn.datasets import make_classification\n",
        "from sklearn.naive_bayes import GaussianNB\n",
        "from sklearn.tree import DecisionTreeClassifier\n",
        "from sklearn.neighbors import NearestNeighbors\n",
        "from sklearn.linear_model import LogisticRegression\n",
        "from sklearn.ensemble import AdaBoostRegressor\n"
      ]
    },
    {
      "cell_type": "code",
      "source": [
        "XC, yC = load_breast_cancer(return_X_y=True)\n",
        "# X,y\n",
        "XC = pd.DataFrame(XC)\n",
        "yC = pd.DataFrame(yC)\n",
        "\n",
        "X_TRAINC,X_TESTC,Y_TRAINC,Y_TESTC = train_test_split(XC,yC,test_size=0.6)\n",
        "# X,y\n",
        "yC\n"
      ],
      "metadata": {
        "id": "EriPs6ebkT95",
        "colab": {
          "base_uri": "https://localhost:8080/",
          "height": 423
        },
        "outputId": "4c663913-0cd9-4855-c567-e912cf744aeb"
      },
      "execution_count": null,
      "outputs": [
        {
          "output_type": "execute_result",
          "data": {
            "text/plain": [
              "     0\n",
              "0    0\n",
              "1    0\n",
              "2    0\n",
              "3    0\n",
              "4    0\n",
              "..  ..\n",
              "564  0\n",
              "565  0\n",
              "566  0\n",
              "567  0\n",
              "568  1\n",
              "\n",
              "[569 rows x 1 columns]"
            ],
            "text/html": [
              "\n",
              "  <div id=\"df-70d6d0a5-317b-4574-ba1c-9d6fa0a15923\">\n",
              "    <div class=\"colab-df-container\">\n",
              "      <div>\n",
              "<style scoped>\n",
              "    .dataframe tbody tr th:only-of-type {\n",
              "        vertical-align: middle;\n",
              "    }\n",
              "\n",
              "    .dataframe tbody tr th {\n",
              "        vertical-align: top;\n",
              "    }\n",
              "\n",
              "    .dataframe thead th {\n",
              "        text-align: right;\n",
              "    }\n",
              "</style>\n",
              "<table border=\"1\" class=\"dataframe\">\n",
              "  <thead>\n",
              "    <tr style=\"text-align: right;\">\n",
              "      <th></th>\n",
              "      <th>0</th>\n",
              "    </tr>\n",
              "  </thead>\n",
              "  <tbody>\n",
              "    <tr>\n",
              "      <th>0</th>\n",
              "      <td>0</td>\n",
              "    </tr>\n",
              "    <tr>\n",
              "      <th>1</th>\n",
              "      <td>0</td>\n",
              "    </tr>\n",
              "    <tr>\n",
              "      <th>2</th>\n",
              "      <td>0</td>\n",
              "    </tr>\n",
              "    <tr>\n",
              "      <th>3</th>\n",
              "      <td>0</td>\n",
              "    </tr>\n",
              "    <tr>\n",
              "      <th>4</th>\n",
              "      <td>0</td>\n",
              "    </tr>\n",
              "    <tr>\n",
              "      <th>...</th>\n",
              "      <td>...</td>\n",
              "    </tr>\n",
              "    <tr>\n",
              "      <th>564</th>\n",
              "      <td>0</td>\n",
              "    </tr>\n",
              "    <tr>\n",
              "      <th>565</th>\n",
              "      <td>0</td>\n",
              "    </tr>\n",
              "    <tr>\n",
              "      <th>566</th>\n",
              "      <td>0</td>\n",
              "    </tr>\n",
              "    <tr>\n",
              "      <th>567</th>\n",
              "      <td>0</td>\n",
              "    </tr>\n",
              "    <tr>\n",
              "      <th>568</th>\n",
              "      <td>1</td>\n",
              "    </tr>\n",
              "  </tbody>\n",
              "</table>\n",
              "<p>569 rows × 1 columns</p>\n",
              "</div>\n",
              "      <button class=\"colab-df-convert\" onclick=\"convertToInteractive('df-70d6d0a5-317b-4574-ba1c-9d6fa0a15923')\"\n",
              "              title=\"Convert this dataframe to an interactive table.\"\n",
              "              style=\"display:none;\">\n",
              "        \n",
              "  <svg xmlns=\"http://www.w3.org/2000/svg\" height=\"24px\"viewBox=\"0 0 24 24\"\n",
              "       width=\"24px\">\n",
              "    <path d=\"M0 0h24v24H0V0z\" fill=\"none\"/>\n",
              "    <path d=\"M18.56 5.44l.94 2.06.94-2.06 2.06-.94-2.06-.94-.94-2.06-.94 2.06-2.06.94zm-11 1L8.5 8.5l.94-2.06 2.06-.94-2.06-.94L8.5 2.5l-.94 2.06-2.06.94zm10 10l.94 2.06.94-2.06 2.06-.94-2.06-.94-.94-2.06-.94 2.06-2.06.94z\"/><path d=\"M17.41 7.96l-1.37-1.37c-.4-.4-.92-.59-1.43-.59-.52 0-1.04.2-1.43.59L10.3 9.45l-7.72 7.72c-.78.78-.78 2.05 0 2.83L4 21.41c.39.39.9.59 1.41.59.51 0 1.02-.2 1.41-.59l7.78-7.78 2.81-2.81c.8-.78.8-2.07 0-2.86zM5.41 20L4 18.59l7.72-7.72 1.47 1.35L5.41 20z\"/>\n",
              "  </svg>\n",
              "      </button>\n",
              "      \n",
              "  <style>\n",
              "    .colab-df-container {\n",
              "      display:flex;\n",
              "      flex-wrap:wrap;\n",
              "      gap: 12px;\n",
              "    }\n",
              "\n",
              "    .colab-df-convert {\n",
              "      background-color: #E8F0FE;\n",
              "      border: none;\n",
              "      border-radius: 50%;\n",
              "      cursor: pointer;\n",
              "      display: none;\n",
              "      fill: #1967D2;\n",
              "      height: 32px;\n",
              "      padding: 0 0 0 0;\n",
              "      width: 32px;\n",
              "    }\n",
              "\n",
              "    .colab-df-convert:hover {\n",
              "      background-color: #E2EBFA;\n",
              "      box-shadow: 0px 1px 2px rgba(60, 64, 67, 0.3), 0px 1px 3px 1px rgba(60, 64, 67, 0.15);\n",
              "      fill: #174EA6;\n",
              "    }\n",
              "\n",
              "    [theme=dark] .colab-df-convert {\n",
              "      background-color: #3B4455;\n",
              "      fill: #D2E3FC;\n",
              "    }\n",
              "\n",
              "    [theme=dark] .colab-df-convert:hover {\n",
              "      background-color: #434B5C;\n",
              "      box-shadow: 0px 1px 3px 1px rgba(0, 0, 0, 0.15);\n",
              "      filter: drop-shadow(0px 1px 2px rgba(0, 0, 0, 0.3));\n",
              "      fill: #FFFFFF;\n",
              "    }\n",
              "  </style>\n",
              "\n",
              "      <script>\n",
              "        const buttonEl =\n",
              "          document.querySelector('#df-70d6d0a5-317b-4574-ba1c-9d6fa0a15923 button.colab-df-convert');\n",
              "        buttonEl.style.display =\n",
              "          google.colab.kernel.accessAllowed ? 'block' : 'none';\n",
              "\n",
              "        async function convertToInteractive(key) {\n",
              "          const element = document.querySelector('#df-70d6d0a5-317b-4574-ba1c-9d6fa0a15923');\n",
              "          const dataTable =\n",
              "            await google.colab.kernel.invokeFunction('convertToInteractive',\n",
              "                                                     [key], {});\n",
              "          if (!dataTable) return;\n",
              "\n",
              "          const docLinkHtml = 'Like what you see? Visit the ' +\n",
              "            '<a target=\"_blank\" href=https://colab.research.google.com/notebooks/data_table.ipynb>data table notebook</a>'\n",
              "            + ' to learn more about interactive tables.';\n",
              "          element.innerHTML = '';\n",
              "          dataTable['output_type'] = 'display_data';\n",
              "          await google.colab.output.renderOutput(dataTable, element);\n",
              "          const docLink = document.createElement('div');\n",
              "          docLink.innerHTML = docLinkHtml;\n",
              "          element.appendChild(docLink);\n",
              "        }\n",
              "      </script>\n",
              "    </div>\n",
              "  </div>\n",
              "  "
            ]
          },
          "metadata": {},
          "execution_count": 4
        }
      ]
    },
    {
      "cell_type": "code",
      "source": [
        "X, y = load_diabetes(return_X_y=True)\n",
        "X,y\n",
        "X = pd.DataFrame(X)\n",
        "y = pd.DataFrame(y)\n",
        "X\n",
        "X_TRAIN,X_TEST,Y_TRAIN,Y_TEST = train_test_split(X,y,test_size=0.6)\n",
        "X,y"
      ],
      "metadata": {
        "id": "32nk0Pmu47fB",
        "colab": {
          "base_uri": "https://localhost:8080/"
        },
        "outputId": "d5a52b0d-e38a-47db-fcd8-9b66225c9f80"
      },
      "execution_count": null,
      "outputs": [
        {
          "output_type": "execute_result",
          "data": {
            "text/plain": [
              "(            0         1         2         3         4         5         6  \\\n",
              " 0    0.038076  0.050680  0.061696  0.021872 -0.044223 -0.034821 -0.043401   \n",
              " 1   -0.001882 -0.044642 -0.051474 -0.026328 -0.008449 -0.019163  0.074412   \n",
              " 2    0.085299  0.050680  0.044451 -0.005671 -0.045599 -0.034194 -0.032356   \n",
              " 3   -0.089063 -0.044642 -0.011595 -0.036656  0.012191  0.024991 -0.036038   \n",
              " 4    0.005383 -0.044642 -0.036385  0.021872  0.003935  0.015596  0.008142   \n",
              " ..        ...       ...       ...       ...       ...       ...       ...   \n",
              " 437  0.041708  0.050680  0.019662  0.059744 -0.005697 -0.002566 -0.028674   \n",
              " 438 -0.005515  0.050680 -0.015906 -0.067642  0.049341  0.079165 -0.028674   \n",
              " 439  0.041708  0.050680 -0.015906  0.017282 -0.037344 -0.013840 -0.024993   \n",
              " 440 -0.045472 -0.044642  0.039062  0.001215  0.016318  0.015283 -0.028674   \n",
              " 441 -0.045472 -0.044642 -0.073030 -0.081414  0.083740  0.027809  0.173816   \n",
              " \n",
              "             7         8         9  \n",
              " 0   -0.002592  0.019908 -0.017646  \n",
              " 1   -0.039493 -0.068330 -0.092204  \n",
              " 2   -0.002592  0.002864 -0.025930  \n",
              " 3    0.034309  0.022692 -0.009362  \n",
              " 4   -0.002592 -0.031991 -0.046641  \n",
              " ..        ...       ...       ...  \n",
              " 437 -0.002592  0.031193  0.007207  \n",
              " 438  0.034309 -0.018118  0.044485  \n",
              " 439 -0.011080 -0.046879  0.015491  \n",
              " 440  0.026560  0.044528 -0.025930  \n",
              " 441 -0.039493 -0.004220  0.003064  \n",
              " \n",
              " [442 rows x 10 columns],          0\n",
              " 0    151.0\n",
              " 1     75.0\n",
              " 2    141.0\n",
              " 3    206.0\n",
              " 4    135.0\n",
              " ..     ...\n",
              " 437  178.0\n",
              " 438  104.0\n",
              " 439  132.0\n",
              " 440  220.0\n",
              " 441   57.0\n",
              " \n",
              " [442 rows x 1 columns])"
            ]
          },
          "metadata": {},
          "execution_count": 5
        }
      ]
    },
    {
      "cell_type": "markdown",
      "source": [
        "Stacking (REGRESSION)"
      ],
      "metadata": {
        "id": "NHRNSiLHNEpc"
      }
    },
    {
      "cell_type": "code",
      "source": [
        "model1 = DecisionTreeRegressor(random_state = 0)\n",
        "model2 = LinearRegression()\n",
        "model3 = SVR(kernel='rbf', gamma='auto')"
      ],
      "metadata": {
        "id": "2DJ-eXCEBAL9"
      },
      "execution_count": null,
      "outputs": []
    },
    {
      "cell_type": "code",
      "source": [
        "model1.fit(X_TRAIN,Y_TRAIN)\n",
        "model2.fit(X_TRAIN,Y_TRAIN)\n",
        "model3.fit(X_TRAIN,Y_TRAIN)"
      ],
      "metadata": {
        "colab": {
          "base_uri": "https://localhost:8080/"
        },
        "id": "jydsRlDNB8tx",
        "outputId": "73dcaf40-0534-410e-b027-c74d4098c2b9"
      },
      "execution_count": null,
      "outputs": [
        {
          "output_type": "stream",
          "name": "stderr",
          "text": [
            "/usr/local/lib/python3.8/dist-packages/sklearn/utils/validation.py:993: DataConversionWarning: A column-vector y was passed when a 1d array was expected. Please change the shape of y to (n_samples, ), for example using ravel().\n",
            "  y = column_or_1d(y, warn=True)\n"
          ]
        },
        {
          "output_type": "execute_result",
          "data": {
            "text/plain": [
              "SVR(gamma='auto')"
            ]
          },
          "metadata": {},
          "execution_count": 30
        }
      ]
    },
    {
      "cell_type": "code",
      "source": [
        "y_pred1 = model1.predict(X_TRAIN)\n",
        "y_pred2 = model2.predict(X_TRAIN)\n",
        "y_pred3 = model3.predict(X_TRAIN)"
      ],
      "metadata": {
        "id": "LSCqB09eCpGD"
      },
      "execution_count": null,
      "outputs": []
    },
    {
      "cell_type": "code",
      "source": [
        "train_stack = np.column_stack((y_pred1,y_pred2,y_pred3))\n",
        "metaModel = LinearRegression()\n",
        "metaModel.fit(train_stack,Y_TRAIN)\n",
        "\n",
        "y_pred = metaModel.predict(train_stack)\n",
        "# len(train_stack)"
      ],
      "metadata": {
        "id": "r0xQi4ilDQTr"
      },
      "execution_count": null,
      "outputs": []
    },
    {
      "cell_type": "code",
      "source": [
        "y_pred_test1 = model1.predict(X_TEST)\n",
        "y_pred_test2 = model2.predict(X_TEST)\n",
        "y_pred_test3 = model3.predict(X_TEST)"
      ],
      "metadata": {
        "id": "2CoHiO8sEXl7"
      },
      "execution_count": null,
      "outputs": []
    },
    {
      "cell_type": "code",
      "source": [
        "test_stack = np.column_stack((y_pred_test1,y_pred_test2,y_pred_test3))\n",
        "y_pred_test =  metaModel.predict((test_stack))\n",
        "# y_pred_test"
      ],
      "metadata": {
        "id": "KzyiTTFiEvfL"
      },
      "execution_count": null,
      "outputs": []
    },
    {
      "cell_type": "code",
      "source": [
        "r2_score( Y_TEST,y_pred_test),mean_absolute_error(Y_TEST,y_pred_test),np.sqrt(mean_squared_error(Y_TEST,y_pred_test))\n"
      ],
      "metadata": {
        "colab": {
          "base_uri": "https://localhost:8080/"
        },
        "id": "GyjEG65HFHVr",
        "outputId": "ac23685e-3e38-4569-d98d-9377ee39858f"
      },
      "execution_count": null,
      "outputs": [
        {
          "output_type": "execute_result",
          "data": {
            "text/plain": [
              "(-0.059555832398188624, 63.08270676691729, 79.58052620067261)"
            ]
          },
          "metadata": {},
          "execution_count": 49
        }
      ]
    },
    {
      "cell_type": "code",
      "source": [
        "score = r2_score( Y_TEST,y_pred_test)\n",
        "format(round(score, 2) *100)"
      ],
      "metadata": {
        "colab": {
          "base_uri": "https://localhost:8080/",
          "height": 36
        },
        "id": "85DQsoTFqamM",
        "outputId": "848e0fd6-fae5-4cab-ce81-35c96c213251"
      },
      "execution_count": null,
      "outputs": [
        {
          "output_type": "execute_result",
          "data": {
            "text/plain": [
              "'-6.0'"
            ],
            "application/vnd.google.colaboratory.intrinsic+json": {
              "type": "string"
            }
          },
          "metadata": {},
          "execution_count": 36
        }
      ]
    },
    {
      "cell_type": "markdown",
      "source": [
        "Stacking (Classification)"
      ],
      "metadata": {
        "id": "5h269KOFlqYj"
      }
    },
    {
      "cell_type": "code",
      "source": [
        "model1 = DecisionTreeClassifier(random_state = 0)\n",
        "model2 = GaussianNB()\n",
        "model3 = LogisticRegression()"
      ],
      "metadata": {
        "id": "68e9OWiPltrW"
      },
      "execution_count": null,
      "outputs": []
    },
    {
      "cell_type": "code",
      "source": [
        "model1.fit(X_TRAINC,Y_TRAINC)\n",
        "model2.fit(X_TRAINC,Y_TRAINC)\n",
        "model3.fit(X_TRAINC,Y_TRAINC)"
      ],
      "metadata": {
        "id": "D_ARe-Enn7bl"
      },
      "execution_count": null,
      "outputs": []
    },
    {
      "cell_type": "code",
      "source": [
        "y_pred1 = model1.predict(X_TRAINC)\n",
        "y_pred2 = model2.predict(X_TRAINC)\n",
        "y_pred3 = model3.predict(X_TRAINC)"
      ],
      "metadata": {
        "id": "d7u2bbzsoBy3"
      },
      "execution_count": null,
      "outputs": []
    },
    {
      "cell_type": "code",
      "source": [
        "train_stack = np.column_stack((y_pred1,y_pred2,y_pred3))\n",
        "metaModel = DecisionTreeClassifier()\n",
        "metaModel.fit(train_stack,Y_TRAINC)"
      ],
      "metadata": {
        "colab": {
          "base_uri": "https://localhost:8080/"
        },
        "id": "eFvTWHipok3C",
        "outputId": "2db469af-18c7-45f2-ef8a-b0f30c66c6a5"
      },
      "execution_count": null,
      "outputs": [
        {
          "output_type": "execute_result",
          "data": {
            "text/plain": [
              "DecisionTreeClassifier()"
            ]
          },
          "metadata": {},
          "execution_count": 65
        }
      ]
    },
    {
      "cell_type": "code",
      "source": [
        "y_pred_test1 = model1.predict(X_TESTC)\n",
        "y_pred_test2 = model2.predict(X_TESTC)\n",
        "y_pred_test3 = model3.predict(X_TESTC)"
      ],
      "metadata": {
        "id": "pxCMsDXqovLd"
      },
      "execution_count": null,
      "outputs": []
    },
    {
      "cell_type": "code",
      "source": [
        "test_stack = np.column_stack((y_pred_test1,y_pred_test2,y_pred_test3))\n",
        "y_pred_test =  metaModel.predict((test_stack))"
      ],
      "metadata": {
        "id": "is7T8Fu4o0Ni"
      },
      "execution_count": null,
      "outputs": []
    },
    {
      "cell_type": "code",
      "source": [
        "precision_score(Y_TESTC, y_pred_test), accuracy_score(Y_TESTC,  y_pred_test), recall_score(Y_TESTC,  y_pred_test), f1_score(Y_TESTC,  y_pred_test)"
      ],
      "metadata": {
        "colab": {
          "base_uri": "https://localhost:8080/"
        },
        "id": "4xhbc_vDo68w",
        "outputId": "c3916720-d396-4c89-8d8d-2f6639afa8fc"
      },
      "execution_count": null,
      "outputs": [
        {
          "output_type": "execute_result",
          "data": {
            "text/plain": [
              "(0.9425837320574163, 0.9181286549707602, 0.9248826291079812, 0.933649289099526)"
            ]
          },
          "metadata": {},
          "execution_count": 68
        }
      ]
    },
    {
      "cell_type": "markdown",
      "source": [
        "Stacking by sklearn (Regression)"
      ],
      "metadata": {
        "id": "ERjRg0A5fsjU"
      }
    },
    {
      "cell_type": "code",
      "source": [
        "estimators_ = [\n",
        "                        ('dtr_1', DecisionTreeRegressor(random_state = 0)),\n",
        "                        ('svr_1', SVR(kernel='rbf', gamma='auto')),\n",
        "                        ('lr_1',LinearRegression())             \n",
        "              ]\n",
        "model = StackingRegressor(estimators= estimators_, final_estimator=LinearRegression())\n",
        "model.fit(X_TRAIN,Y_TRAIN)"
      ],
      "metadata": {
        "colab": {
          "base_uri": "https://localhost:8080/"
        },
        "id": "-ZA6Pu8ypSD9",
        "outputId": "549f2334-8b26-482c-9658-20c3971dfead"
      },
      "execution_count": null,
      "outputs": [
        {
          "output_type": "stream",
          "name": "stderr",
          "text": [
            "/usr/local/lib/python3.8/dist-packages/sklearn/ensemble/_stacking.py:758: DataConversionWarning: A column-vector y was passed when a 1d array was expected. Please change the shape of y to (n_samples, ), for example using ravel().\n",
            "  y = column_or_1d(y, warn=True)\n"
          ]
        },
        {
          "output_type": "execute_result",
          "data": {
            "text/plain": [
              "StackingRegressor(estimators=[('dtr_1', DecisionTreeRegressor(random_state=0)),\n",
              "                              ('svr_1', SVR(gamma='auto')),\n",
              "                              ('lr_1', LinearRegression())],\n",
              "                  final_estimator=LinearRegression())"
            ]
          },
          "metadata": {},
          "execution_count": 73
        }
      ]
    },
    {
      "cell_type": "code",
      "source": [
        "y_pred_stacking = model.predict(X_TEST)\n",
        "score = r2_score( Y_TEST,y_pred_stacking)\n",
        "format(round(score, 2) *100)"
      ],
      "metadata": {
        "colab": {
          "base_uri": "https://localhost:8080/",
          "height": 36
        },
        "id": "_XwO6sMIqiQH",
        "outputId": "69a949d2-5d4f-46c6-b226-55ac10337cc4"
      },
      "execution_count": null,
      "outputs": [
        {
          "output_type": "execute_result",
          "data": {
            "text/plain": [
              "'47.0'"
            ],
            "application/vnd.google.colaboratory.intrinsic+json": {
              "type": "string"
            }
          },
          "metadata": {},
          "execution_count": 74
        }
      ]
    },
    {
      "cell_type": "markdown",
      "source": [
        "Stacking by sklearn (Classification)"
      ],
      "metadata": {
        "id": "yMn7hlc2pLj9"
      }
    },
    {
      "cell_type": "code",
      "source": [
        "estimators_ = [\n",
        "                        ('dtc_1', DecisionTreeClassifier(random_state = 0)),\n",
        "                        ('nb_1', GaussianNB()),\n",
        "                        ('lr_1',LogisticRegression())             \n",
        "              ]\n",
        "model = StackingClassifier(estimators= estimators_, final_estimator=DecisionTreeClassifier(random_state = 4))\n",
        "model.fit(X_TRAINC,Y_TRAINC)"
      ],
      "metadata": {
        "id": "JNKtu6wrfwHb"
      },
      "execution_count": null,
      "outputs": []
    },
    {
      "cell_type": "code",
      "source": [
        "y_pred_stacking = model.predict(X_TESTC)\n",
        "precision_score(Y_TESTC, y_pred_stacking), accuracy_score(Y_TESTC,  y_pred_stacking), recall_score(Y_TESTC,  y_pred_stacking), f1_score(Y_TESTC,  y_pred_stacking)"
      ],
      "metadata": {
        "colab": {
          "base_uri": "https://localhost:8080/"
        },
        "id": "iZnDciHOgvmw",
        "outputId": "92ff2f7e-afbb-4c6a-aa1e-8f2814bc9f9d"
      },
      "execution_count": null,
      "outputs": [
        {
          "output_type": "execute_result",
          "data": {
            "text/plain": [
              "(0.918552036199095, 0.9181286549707602, 0.9530516431924883, 0.9354838709677419)"
            ]
          },
          "metadata": {},
          "execution_count": 71
        }
      ]
    },
    {
      "cell_type": "markdown",
      "source": [
        "Random Forest"
      ],
      "metadata": {
        "id": "A_oia5mpJnTl"
      }
    },
    {
      "cell_type": "code",
      "source": [
        "model = RandomForestClassifier(max_depth=2, random_state=0)\n",
        "model.fit(X_TRAIN,Y_TRAIN)"
      ],
      "metadata": {
        "id": "0lXVb5AeJ6iD",
        "colab": {
          "base_uri": "https://localhost:8080/"
        },
        "outputId": "053aeaed-e684-4d51-84ed-74e8aa890ec7"
      },
      "execution_count": null,
      "outputs": [
        {
          "output_type": "stream",
          "name": "stderr",
          "text": [
            "<ipython-input-38-1c3e86deffb4>:2: DataConversionWarning: A column-vector y was passed when a 1d array was expected. Please change the shape of y to (n_samples,), for example using ravel().\n",
            "  model.fit(X_TRAIN,Y_TRAIN)\n"
          ]
        },
        {
          "output_type": "execute_result",
          "data": {
            "text/plain": [
              "RandomForestClassifier(max_depth=2, random_state=0)"
            ]
          },
          "metadata": {},
          "execution_count": 38
        }
      ]
    },
    {
      "cell_type": "code",
      "source": [
        "y_pred_randomForest = model.predict(X_TEST)\n",
        "score = r2_score( Y_TEST,y_pred_randomForest)\n",
        "format(round(score, 2) *100)"
      ],
      "metadata": {
        "colab": {
          "base_uri": "https://localhost:8080/",
          "height": 36
        },
        "id": "HJlW9mkne9oe",
        "outputId": "75e0f0d2-88d3-485f-c0d2-797c846ba7d3"
      },
      "execution_count": null,
      "outputs": [
        {
          "output_type": "execute_result",
          "data": {
            "text/plain": [
              "'47.0'"
            ],
            "application/vnd.google.colaboratory.intrinsic+json": {
              "type": "string"
            }
          },
          "metadata": {},
          "execution_count": 54
        }
      ]
    },
    {
      "cell_type": "markdown",
      "source": [
        "Ada-boosting"
      ],
      "metadata": {
        "id": "aAuvg2JxvSS7"
      }
    },
    {
      "cell_type": "code",
      "source": [
        "model = AdaBoostClassifier(n_estimators=100, random_state=0)\n",
        "model.fit(X_TRAINC,Y_TRAINC)"
      ],
      "metadata": {
        "colab": {
          "base_uri": "https://localhost:8080/"
        },
        "id": "DR9t-6HBjt9s",
        "outputId": "0326cc3e-2724-4182-b6b9-12111875bc30"
      },
      "execution_count": null,
      "outputs": [
        {
          "output_type": "stream",
          "name": "stderr",
          "text": [
            "/usr/local/lib/python3.8/dist-packages/sklearn/utils/validation.py:993: DataConversionWarning: A column-vector y was passed when a 1d array was expected. Please change the shape of y to (n_samples, ), for example using ravel().\n",
            "  y = column_or_1d(y, warn=True)\n"
          ]
        },
        {
          "output_type": "execute_result",
          "data": {
            "text/plain": [
              "AdaBoostClassifier(n_estimators=100, random_state=0)"
            ]
          },
          "metadata": {},
          "execution_count": 55
        }
      ]
    },
    {
      "cell_type": "code",
      "source": [
        "y_pred_adaboosting = model.predict(X_TESTC)\n",
        "precision_score(Y_TESTC, y_pred_adaboosting), accuracy_score(Y_TESTC,  y_pred_adaboosting), recall_score(Y_TESTC,  y_pred_adaboosting), f1_score(Y_TESTC,  y_pred_adaboosting)"
      ],
      "metadata": {
        "colab": {
          "base_uri": "https://localhost:8080/"
        },
        "id": "pvpYxIIQk6Gu",
        "outputId": "d7d6d4d5-0c8a-48d8-d74e-905a117f1198"
      },
      "execution_count": null,
      "outputs": [
        {
          "output_type": "execute_result",
          "data": {
            "text/plain": [
              "(0.9441860465116279, 0.935672514619883, 0.9530516431924883, 0.9485981308411214)"
            ]
          },
          "metadata": {},
          "execution_count": 56
        }
      ]
    },
    {
      "cell_type": "markdown",
      "source": [
        "Ada-boosting (Regression)"
      ],
      "metadata": {
        "id": "BJ3Nj356gBFZ"
      }
    },
    {
      "cell_type": "code",
      "source": [
        "model = AdaBoostRegressor(n_estimators=100, random_state=0)\n",
        "model.fit(X_TRAIN,Y_TRAIN)\n",
        "y_pred_test = model.predict(X_TRAIN)\n",
        "np.sqrt(mean_squared_error(Y_TRAIN,y_pred_test))"
      ],
      "metadata": {
        "colab": {
          "base_uri": "https://localhost:8080/"
        },
        "id": "R0Ao9R_uf7Yg",
        "outputId": "60c87ee2-ff1a-4440-8f5b-7135a756a32f"
      },
      "execution_count": null,
      "outputs": [
        {
          "output_type": "stream",
          "name": "stderr",
          "text": [
            "/usr/local/lib/python3.8/dist-packages/sklearn/utils/validation.py:993: DataConversionWarning: A column-vector y was passed when a 1d array was expected. Please change the shape of y to (n_samples, ), for example using ravel().\n",
            "  y = column_or_1d(y, warn=True)\n"
          ]
        },
        {
          "output_type": "execute_result",
          "data": {
            "text/plain": [
              "37.62549285189623"
            ]
          },
          "metadata": {},
          "execution_count": 8
        }
      ]
    },
    {
      "cell_type": "markdown",
      "source": [
        "Bagging"
      ],
      "metadata": {
        "id": "OgrroWHfrC57"
      }
    },
    {
      "cell_type": "code",
      "source": [
        "base_models = 3\n",
        "data_model = int(len(X_TRAIN)/base_models)\n",
        "\n",
        "X_train = []\n",
        "y_train = []\n",
        "for i in range(base_models):\n",
        " X_train.append(X_TRAIN.iloc[(i)*data_model:((i+1)*data_model)])\n",
        " y_train.append(Y_TRAIN.iloc[(i)*data_model:((i+1)*data_model)])"
      ],
      "metadata": {
        "id": "4AYRqNvH7ZoN"
      },
      "execution_count": null,
      "outputs": []
    },
    {
      "cell_type": "markdown",
      "source": [
        "Exercise"
      ],
      "metadata": {
        "id": "ZCy_qrPq9GZl"
      }
    },
    {
      "cell_type": "code",
      "source": [
        "df_c = pd.read_csv('/content/drive/MyDrive/ML_Dataset/Contrete.csv')\n",
        "\n",
        "Y = df_c['csMPa']\n",
        "X = df_c.drop(['csMPa'],axis=1)\n",
        "\n",
        "\n",
        "X_TRAIN,X_TEST,Y_TRAIN,Y_TEST = train_test_split(X,Y,test_size=0.6)"
      ],
      "metadata": {
        "id": "ry4Q-T4q9JHV"
      },
      "execution_count": null,
      "outputs": []
    },
    {
      "cell_type": "code",
      "source": [
        "model = AdaBoostRegressor(n_estimators=100, random_state=0)\n",
        "model.fit(X_TRAIN,Y_TRAIN)\n",
        "y_pred_test = model.predict(X_TEST)\n",
        "np.sqrt(mean_squared_error(Y_TEST,y_pred_test))"
      ],
      "metadata": {
        "colab": {
          "base_uri": "https://localhost:8080/"
        },
        "id": "2Qr6cW5Oa0kc",
        "outputId": "716d2a5e-9b79-46c1-91f7-aa451fea8d58"
      },
      "execution_count": null,
      "outputs": [
        {
          "output_type": "execute_result",
          "data": {
            "text/plain": [
              "7.990732928348252"
            ]
          },
          "metadata": {},
          "execution_count": 14
        }
      ]
    },
    {
      "cell_type": "code",
      "source": [
        "y_pred_exe = model.predict(X_TEST)  \n",
        "score = r2_score( Y_TEST,y_pred_exe)\n",
        "format(round(score, 2) *100)"
      ],
      "metadata": {
        "colab": {
          "base_uri": "https://localhost:8080/",
          "height": 36
        },
        "id": "6d4fAdaMamdd",
        "outputId": "7b92f0cb-795e-4816-c194-9bd7df52a2d3"
      },
      "execution_count": null,
      "outputs": [
        {
          "output_type": "execute_result",
          "data": {
            "text/plain": [
              "'81.0'"
            ],
            "application/vnd.google.colaboratory.intrinsic+json": {
              "type": "string"
            }
          },
          "metadata": {},
          "execution_count": 12
        }
      ]
    }
  ]
}