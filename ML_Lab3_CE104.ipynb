{
  "cells": [
    {
      "cell_type": "markdown",
      "metadata": {
        "id": "WIjT9IWOf6zC"
      },
      "source": [
        "### Probablistic Models in Machine Learning"
      ]
    },
    {
      "cell_type": "markdown",
      "metadata": {
        "id": "-O-zvMIEgBYO"
      },
      "source": [
        "1. Naive Bayes Classifier"
      ]
    },
    {
      "cell_type": "code",
      "execution_count": null,
      "metadata": {
        "id": "Tg5csz0rftma"
      },
      "outputs": [],
      "source": [
        "# Import the necessary libraries\n",
        "\n",
        "import numpy as np\n",
        "from sklearn.preprocessing import LabelEncoder\n",
        "from sklearn.naive_bayes import GaussianNB, MultinomialNB, CategoricalNB"
      ]
    },
    {
      "cell_type": "code",
      "execution_count": null,
      "metadata": {
        "id": "yk92fg9AgYrT"
      },
      "outputs": [],
      "source": [
        "# Creating the dataset\n",
        "\n",
        "weather = np.array(['Sunny', 'Sunny', 'Overcast', 'Rainy', 'Rainy','Rainy', 'Overcast',\n",
        "'Sunny', 'Sunny', 'Rainy', 'Sunny', 'Overcast', 'Overcast', 'Rainy'])\n",
        "\n",
        "temp = np.array(['Hot','Hot','Hot','Mild','Cool','Cool','Cool','Mild',\n",
        "'Cool','Mild','Mild','Mild','Hot','Mild'])\n",
        "\n",
        "play = np.array(['No','No','Yes','Yes','Yes','No','Yes','No','Yes',\n",
        "'Yes','Yes','Yes','Yes','No'])"
      ]
    },
    {
      "cell_type": "code",
      "execution_count": null,
      "metadata": {
        "id": "C2TgQS3CgiA0"
      },
      "outputs": [],
      "source": [
        "# Prime the data by filtering it\n",
        "\n",
        "le = LabelEncoder()\n",
        "weather_encoded = le.fit_transform(weather)\n",
        "temp_encoded = le.fit_transform(temp)\n",
        "label = le.fit_transform(play)\n",
        "weather_encoded, temp_encoded, label"
      ]
    },
    {
      "cell_type": "code",
      "execution_count": null,
      "metadata": {
        "id": "RB4_ZfL7hYH3"
      },
      "outputs": [],
      "source": [
        "# Combine the features to feed them into the model\n",
        "\n",
        "features = tuple(zip(weather_encoded, temp_encoded))\n",
        "features"
      ]
    },
    {
      "cell_type": "code",
      "execution_count": null,
      "metadata": {
        "id": "f5DHGz6Dhx68"
      },
      "outputs": [],
      "source": [
        "# Create a classifier\n",
        "\n",
        "# model = MultinomialNB()\n",
        "# model = GaussianNB()\n",
        "model = CategoricalNB()\n",
        "model.fit(features, label)\n",
        "\n",
        "# weather_input = int(input())\n",
        "# temp_input = int(input())\n",
        "\n",
        "predictions = []\n",
        "for i in range(3):\n",
        "    for j in range(3):\n",
        "        predictions[:0] = model.predict([[i, j]])\n",
        "\n",
        "predictions"
      ]
    },
    {
      "cell_type": "markdown",
      "metadata": {
        "id": "M-sCMyGinvTO"
      },
      "source": [
        "2. Gaussian Classifier Iris Dataset"
      ]
    },
    {
      "cell_type": "code",
      "execution_count": null,
      "metadata": {
        "id": "c1WHuRsMnxun"
      },
      "outputs": [],
      "source": [
        "import numpy as np\n",
        "from sklearn import datasets\n",
        "from sklearn.naive_bayes import GaussianNB\n",
        "\n",
        "iris = datasets.load_iris()"
      ]
    },
    {
      "cell_type": "code",
      "execution_count": null,
      "metadata": {
        "id": "gi3hhBdwoRUO"
      },
      "outputs": [],
      "source": [
        "iris.feature_names"
      ]
    },
    {
      "cell_type": "code",
      "execution_count": null,
      "metadata": {
        "id": "7mAXLBpioWwN"
      },
      "outputs": [],
      "source": [
        "iris.target_names "
      ]
    },
    {
      "cell_type": "code",
      "execution_count": null,
      "metadata": {
        "id": "EQUIlV2Oodjq"
      },
      "outputs": [],
      "source": [
        "newdata = iris.data[50:]\n",
        "newtargets = iris.target[50:]"
      ]
    },
    {
      "cell_type": "code",
      "execution_count": null,
      "metadata": {
        "id": "rOf-Mizro1Bq"
      },
      "outputs": [],
      "source": [
        "from sklearn.model_selection import train_test_split\n",
        "\n",
        "X_train, X_test, y_train, y_test = train_test_split(newdata, newtargets, test_size=0.25, random_state=5)\n",
        "\n",
        "gnb = GaussianNB()\n",
        "gnb.fit(X_train, y_train)\n",
        "predictions = gnb.predict(X_test)"
      ]
    },
    {
      "cell_type": "code",
      "execution_count": null,
      "metadata": {
        "id": "EUqZIAgnqBeb"
      },
      "outputs": [],
      "source": [
        "from sklearn.metrics import accuracy_score, confusion_matrix, precision_score, recall_score"
      ]
    },
    {
      "cell_type": "code",
      "execution_count": null,
      "metadata": {
        "id": "BtmC0ArWqMNR"
      },
      "outputs": [],
      "source": [
        "score = accuracy_score(y_test, predictions)\n",
        "score"
      ]
    },
    {
      "cell_type": "code",
      "execution_count": null,
      "metadata": {
        "id": "ghoiXrwjq2b0"
      },
      "outputs": [],
      "source": [
        "confusion_matrix(y_test, predictions)"
      ]
    },
    {
      "cell_type": "code",
      "execution_count": null,
      "metadata": {
        "id": "0Eha2YrrrJGk"
      },
      "outputs": [],
      "source": [
        "score = precision_score(y_test, predictions)\n",
        "score"
      ]
    },
    {
      "cell_type": "code",
      "execution_count": null,
      "metadata": {
        "id": "g8jOSAvCrRZN"
      },
      "outputs": [],
      "source": [
        "score = recall_score(y_test, predictions)\n",
        "score"
      ]
    },
    {
      "cell_type": "markdown",
      "metadata": {
        "id": "l7P8OFmlrhVy"
      },
      "source": [
        "3. Gaussian Classifier Iris Dataset (3 Classes)"
      ]
    },
    {
      "cell_type": "markdown",
      "metadata": {
        "id": "_N-L0Pe91xZs"
      },
      "source": [
        "Task #1"
      ]
    },
    {
      "cell_type": "code",
      "execution_count": null,
      "metadata": {
        "id": "7gzzABq8t8b5"
      },
      "outputs": [],
      "source": [
        "import numpy as np\n",
        "import pandas as pd\n",
        "from sklearn.preprocessing import LabelEncoder"
      ]
    },
    {
      "cell_type": "code",
      "execution_count": null,
      "metadata": {
        "colab": {
          "background_save": true
        },
        "id": "mgdWPgwoumXx",
        "outputId": "8136ce93-d534-4d3f-b3df-a6f07ef9d2e5"
      },
      "outputs": [
        {
          "data": {
            "text/html": [
              "\n",
              "  <div id=\"df-dad29fa8-f0ef-4dfe-bd96-fdb5d1cbaebd\">\n",
              "    <div class=\"colab-df-container\">\n",
              "      <div>\n",
              "<style scoped>\n",
              "    .dataframe tbody tr th:only-of-type {\n",
              "        vertical-align: middle;\n",
              "    }\n",
              "\n",
              "    .dataframe tbody tr th {\n",
              "        vertical-align: top;\n",
              "    }\n",
              "\n",
              "    .dataframe thead th {\n",
              "        text-align: right;\n",
              "    }\n",
              "</style>\n",
              "<table border=\"1\" class=\"dataframe\">\n",
              "  <thead>\n",
              "    <tr style=\"text-align: right;\">\n",
              "      <th></th>\n",
              "      <th>Outlook</th>\n",
              "      <th>Temp</th>\n",
              "      <th>Wind</th>\n",
              "      <th>Humidity</th>\n",
              "      <th>Class</th>\n",
              "    </tr>\n",
              "  </thead>\n",
              "  <tbody>\n",
              "    <tr>\n",
              "      <th>0</th>\n",
              "      <td>R</td>\n",
              "      <td>H</td>\n",
              "      <td>F</td>\n",
              "      <td>Normal</td>\n",
              "      <td>N</td>\n",
              "    </tr>\n",
              "    <tr>\n",
              "      <th>1</th>\n",
              "      <td>R</td>\n",
              "      <td>H</td>\n",
              "      <td>T</td>\n",
              "      <td>High</td>\n",
              "      <td>N</td>\n",
              "    </tr>\n",
              "    <tr>\n",
              "      <th>2</th>\n",
              "      <td>O</td>\n",
              "      <td>H</td>\n",
              "      <td>F</td>\n",
              "      <td>Normal</td>\n",
              "      <td>Y</td>\n",
              "    </tr>\n",
              "    <tr>\n",
              "      <th>3</th>\n",
              "      <td>S</td>\n",
              "      <td>M</td>\n",
              "      <td>F</td>\n",
              "      <td>Normal</td>\n",
              "      <td>N</td>\n",
              "    </tr>\n",
              "    <tr>\n",
              "      <th>4</th>\n",
              "      <td>S</td>\n",
              "      <td>M</td>\n",
              "      <td>F</td>\n",
              "      <td>Normal</td>\n",
              "      <td>Y</td>\n",
              "    </tr>\n",
              "    <tr>\n",
              "      <th>5</th>\n",
              "      <td>S</td>\n",
              "      <td>M</td>\n",
              "      <td>T</td>\n",
              "      <td>Low</td>\n",
              "      <td>Y</td>\n",
              "    </tr>\n",
              "    <tr>\n",
              "      <th>6</th>\n",
              "      <td>O</td>\n",
              "      <td>C</td>\n",
              "      <td>T</td>\n",
              "      <td>Normal</td>\n",
              "      <td>Y</td>\n",
              "    </tr>\n",
              "    <tr>\n",
              "      <th>7</th>\n",
              "      <td>R</td>\n",
              "      <td>C</td>\n",
              "      <td>F</td>\n",
              "      <td>Normal</td>\n",
              "      <td>Y</td>\n",
              "    </tr>\n",
              "    <tr>\n",
              "      <th>8</th>\n",
              "      <td>R</td>\n",
              "      <td>C</td>\n",
              "      <td>F</td>\n",
              "      <td>Low</td>\n",
              "      <td>Y</td>\n",
              "    </tr>\n",
              "    <tr>\n",
              "      <th>9</th>\n",
              "      <td>S</td>\n",
              "      <td>M</td>\n",
              "      <td>F</td>\n",
              "      <td>High</td>\n",
              "      <td>Y</td>\n",
              "    </tr>\n",
              "    <tr>\n",
              "      <th>10</th>\n",
              "      <td>R</td>\n",
              "      <td>M</td>\n",
              "      <td>T</td>\n",
              "      <td>High</td>\n",
              "      <td>Y</td>\n",
              "    </tr>\n",
              "    <tr>\n",
              "      <th>11</th>\n",
              "      <td>O</td>\n",
              "      <td>M</td>\n",
              "      <td>T</td>\n",
              "      <td>Low</td>\n",
              "      <td>Y</td>\n",
              "    </tr>\n",
              "    <tr>\n",
              "      <th>12</th>\n",
              "      <td>O</td>\n",
              "      <td>H</td>\n",
              "      <td>F</td>\n",
              "      <td>Normal</td>\n",
              "      <td>Y</td>\n",
              "    </tr>\n",
              "    <tr>\n",
              "      <th>13</th>\n",
              "      <td>S</td>\n",
              "      <td>M</td>\n",
              "      <td>T</td>\n",
              "      <td>Normal</td>\n",
              "      <td>N</td>\n",
              "    </tr>\n",
              "  </tbody>\n",
              "</table>\n",
              "</div>\n",
              "      <button class=\"colab-df-convert\" onclick=\"convertToInteractive('df-dad29fa8-f0ef-4dfe-bd96-fdb5d1cbaebd')\"\n",
              "              title=\"Convert this dataframe to an interactive table.\"\n",
              "              style=\"display:none;\">\n",
              "        \n",
              "  <svg xmlns=\"http://www.w3.org/2000/svg\" height=\"24px\"viewBox=\"0 0 24 24\"\n",
              "       width=\"24px\">\n",
              "    <path d=\"M0 0h24v24H0V0z\" fill=\"none\"/>\n",
              "    <path d=\"M18.56 5.44l.94 2.06.94-2.06 2.06-.94-2.06-.94-.94-2.06-.94 2.06-2.06.94zm-11 1L8.5 8.5l.94-2.06 2.06-.94-2.06-.94L8.5 2.5l-.94 2.06-2.06.94zm10 10l.94 2.06.94-2.06 2.06-.94-2.06-.94-.94-2.06-.94 2.06-2.06.94z\"/><path d=\"M17.41 7.96l-1.37-1.37c-.4-.4-.92-.59-1.43-.59-.52 0-1.04.2-1.43.59L10.3 9.45l-7.72 7.72c-.78.78-.78 2.05 0 2.83L4 21.41c.39.39.9.59 1.41.59.51 0 1.02-.2 1.41-.59l7.78-7.78 2.81-2.81c.8-.78.8-2.07 0-2.86zM5.41 20L4 18.59l7.72-7.72 1.47 1.35L5.41 20z\"/>\n",
              "  </svg>\n",
              "      </button>\n",
              "      \n",
              "  <style>\n",
              "    .colab-df-container {\n",
              "      display:flex;\n",
              "      flex-wrap:wrap;\n",
              "      gap: 12px;\n",
              "    }\n",
              "\n",
              "    .colab-df-convert {\n",
              "      background-color: #E8F0FE;\n",
              "      border: none;\n",
              "      border-radius: 50%;\n",
              "      cursor: pointer;\n",
              "      display: none;\n",
              "      fill: #1967D2;\n",
              "      height: 32px;\n",
              "      padding: 0 0 0 0;\n",
              "      width: 32px;\n",
              "    }\n",
              "\n",
              "    .colab-df-convert:hover {\n",
              "      background-color: #E2EBFA;\n",
              "      box-shadow: 0px 1px 2px rgba(60, 64, 67, 0.3), 0px 1px 3px 1px rgba(60, 64, 67, 0.15);\n",
              "      fill: #174EA6;\n",
              "    }\n",
              "\n",
              "    [theme=dark] .colab-df-convert {\n",
              "      background-color: #3B4455;\n",
              "      fill: #D2E3FC;\n",
              "    }\n",
              "\n",
              "    [theme=dark] .colab-df-convert:hover {\n",
              "      background-color: #434B5C;\n",
              "      box-shadow: 0px 1px 3px 1px rgba(0, 0, 0, 0.15);\n",
              "      filter: drop-shadow(0px 1px 2px rgba(0, 0, 0, 0.3));\n",
              "      fill: #FFFFFF;\n",
              "    }\n",
              "  </style>\n",
              "\n",
              "      <script>\n",
              "        const buttonEl =\n",
              "          document.querySelector('#df-dad29fa8-f0ef-4dfe-bd96-fdb5d1cbaebd button.colab-df-convert');\n",
              "        buttonEl.style.display =\n",
              "          google.colab.kernel.accessAllowed ? 'block' : 'none';\n",
              "\n",
              "        async function convertToInteractive(key) {\n",
              "          const element = document.querySelector('#df-dad29fa8-f0ef-4dfe-bd96-fdb5d1cbaebd');\n",
              "          const dataTable =\n",
              "            await google.colab.kernel.invokeFunction('convertToInteractive',\n",
              "                                                     [key], {});\n",
              "          if (!dataTable) return;\n",
              "\n",
              "          const docLinkHtml = 'Like what you see? Visit the ' +\n",
              "            '<a target=\"_blank\" href=https://colab.research.google.com/notebooks/data_table.ipynb>data table notebook</a>'\n",
              "            + ' to learn more about interactive tables.';\n",
              "          element.innerHTML = '';\n",
              "          dataTable['output_type'] = 'display_data';\n",
              "          await google.colab.output.renderOutput(dataTable, element);\n",
              "          const docLink = document.createElement('div');\n",
              "          docLink.innerHTML = docLinkHtml;\n",
              "          element.appendChild(docLink);\n",
              "        }\n",
              "      </script>\n",
              "    </div>\n",
              "  </div>\n",
              "  "
            ],
            "text/plain": [
              "   Outlook Temp Wind Humidity Class\n",
              "0        R    H    F   Normal     N\n",
              "1        R    H    T     High     N\n",
              "2        O    H    F   Normal     Y\n",
              "3        S    M    F   Normal     N\n",
              "4        S    M    F   Normal     Y\n",
              "5        S    M    T      Low     Y\n",
              "6        O    C    T   Normal     Y\n",
              "7        R    C    F   Normal     Y\n",
              "8        R    C    F      Low     Y\n",
              "9        S    M    F     High     Y\n",
              "10       R    M    T     High     Y\n",
              "11       O    M    T      Low     Y\n",
              "12       O    H    F   Normal     Y\n",
              "13       S    M    T   Normal     N"
            ]
          },
          "execution_count": 1360,
          "metadata": {},
          "output_type": "execute_result"
        }
      ],
      "source": [
        "data = pd.read_csv(\"drive/MyDrive/Dataset2.csv\")\n",
        "data"
      ]
    },
    {
      "cell_type": "code",
      "execution_count": null,
      "metadata": {
        "colab": {
          "background_save": true
        },
        "id": "fo6H5C1qwnVg"
      },
      "outputs": [],
      "source": [
        "le = LabelEncoder()"
      ]
    },
    {
      "cell_type": "code",
      "execution_count": null,
      "metadata": {
        "colab": {
          "background_save": true
        },
        "id": "09f_0ecgwfja"
      },
      "outputs": [],
      "source": [
        "for i in data:\n",
        "    data[i] = le.fit_transform(data[i])"
      ]
    },
    {
      "cell_type": "code",
      "execution_count": null,
      "metadata": {
        "colab": {
          "background_save": true
        },
        "id": "qK_5MIEOu0f5"
      },
      "outputs": [],
      "source": [
        "features = data.iloc[:, :-1]\n",
        "labels = data.iloc[:, -1:]"
      ]
    },
    {
      "cell_type": "code",
      "execution_count": null,
      "metadata": {
        "colab": {
          "background_save": true
        },
        "id": "eXVrDSrNyOaS"
      },
      "outputs": [],
      "source": [
        "features"
      ]
    },
    {
      "cell_type": "code",
      "execution_count": null,
      "metadata": {
        "colab": {
          "background_save": true
        },
        "id": "hfWtc05yyPEY"
      },
      "outputs": [],
      "source": [
        "labels"
      ]
    },
    {
      "cell_type": "code",
      "execution_count": null,
      "metadata": {
        "colab": {
          "background_save": true
        },
        "id": "23EbYNnVynVx"
      },
      "outputs": [],
      "source": [
        "from sklearn.model_selection import train_test_split\n",
        "from sklearn.naive_bayes import GaussianNB"
      ]
    },
    {
      "cell_type": "code",
      "execution_count": null,
      "metadata": {
        "colab": {
          "background_save": true
        },
        "id": "AM6SyZFmzqGj"
      },
      "outputs": [],
      "source": [
        "X_train, X_test, y_train, y_test = train_test_split(features, labels, test_size=0.1, random_state=1)"
      ]
    },
    {
      "cell_type": "code",
      "execution_count": null,
      "metadata": {
        "colab": {
          "background_save": true
        },
        "id": "ijeYPLNBzlHH",
        "outputId": "dd5c2da2-e547-4e9c-e912-3d00f691048e"
      },
      "outputs": [
        {
          "data": {
            "text/plain": [
              "array([1, 1])"
            ]
          },
          "execution_count": 1368,
          "metadata": {},
          "output_type": "execute_result"
        }
      ],
      "source": [
        "gnb = GaussianNB()\n",
        "gnb.fit(X_train, y_train.values.ravel())\n",
        "predictions = gnb.predict(X_test)\n",
        "predictions"
      ]
    },
    {
      "cell_type": "code",
      "execution_count": null,
      "metadata": {
        "colab": {
          "background_save": true
        },
        "id": "fY7Bfintz2-f"
      },
      "outputs": [],
      "source": [
        "from sklearn.metrics import accuracy_score, precision_score, recall_score, confusion_matrix"
      ]
    },
    {
      "cell_type": "code",
      "execution_count": null,
      "metadata": {
        "colab": {
          "background_save": true
        },
        "id": "BdABifCl0CqY",
        "outputId": "d26adb9b-0a90-4f02-b0dc-7788aefba53d"
      },
      "outputs": [
        {
          "data": {
            "text/plain": [
              "0.5"
            ]
          },
          "execution_count": 1370,
          "metadata": {},
          "output_type": "execute_result"
        }
      ],
      "source": [
        "score = accuracy_score(y_test, predictions)\n",
        "score"
      ]
    },
    {
      "cell_type": "code",
      "execution_count": null,
      "metadata": {
        "colab": {
          "background_save": true
        },
        "id": "d4Jqalk106VF",
        "outputId": "0053b303-48a2-4ab9-c5f4-65bda58af926"
      },
      "outputs": [
        {
          "data": {
            "text/plain": [
              "0.5"
            ]
          },
          "execution_count": 1371,
          "metadata": {},
          "output_type": "execute_result"
        }
      ],
      "source": [
        "score = precision_score(y_test, predictions)\n",
        "score"
      ]
    },
    {
      "cell_type": "code",
      "execution_count": null,
      "metadata": {
        "colab": {
          "background_save": true
        },
        "id": "8rRKZGm208iV",
        "outputId": "5e8a30f2-9a1d-45f6-90a7-e14e3ced90f4"
      },
      "outputs": [
        {
          "data": {
            "text/plain": [
              "1.0"
            ]
          },
          "execution_count": 1372,
          "metadata": {},
          "output_type": "execute_result"
        }
      ],
      "source": [
        "score = recall_score(y_test, predictions)\n",
        "score"
      ]
    },
    {
      "cell_type": "code",
      "execution_count": null,
      "metadata": {
        "colab": {
          "background_save": true
        },
        "id": "HRjgtiIR0_SV",
        "outputId": "35d9720b-ca5d-4706-e84e-c2696e9a5a4a"
      },
      "outputs": [
        {
          "data": {
            "text/plain": [
              "array([[0, 1],\n",
              "       [0, 1]])"
            ]
          },
          "execution_count": 1373,
          "metadata": {},
          "output_type": "execute_result"
        }
      ],
      "source": [
        "cfm = confusion_matrix(y_test, predictions)\n",
        "cfm"
      ]
    },
    {
      "cell_type": "markdown",
      "metadata": {
        "id": "PbrHYWr511T6"
      },
      "source": [
        "Task #2"
      ]
    },
    {
      "cell_type": "code",
      "execution_count": null,
      "metadata": {
        "colab": {
          "background_save": true
        },
        "id": "f8rk9PcA12J7"
      },
      "outputs": [],
      "source": [
        "digits = datasets.load_digits()"
      ]
    },
    {
      "cell_type": "code",
      "execution_count": null,
      "metadata": {
        "colab": {
          "background_save": true
        },
        "id": "Dleuc2Du2AOo",
        "outputId": "d12aed71-4309-4d7e-d05c-ef02bff1293e"
      },
      "outputs": [
        {
          "data": {
            "text/plain": [
              "array(['pixel_0_0', 'pixel_0_1', 'pixel_0_2', 'pixel_0_3', 'pixel_0_4',\n",
              "       'pixel_0_5', 'pixel_0_6', 'pixel_0_7', 'pixel_1_0', 'pixel_1_1',\n",
              "       'pixel_1_2', 'pixel_1_3', 'pixel_1_4', 'pixel_1_5', 'pixel_1_6',\n",
              "       'pixel_1_7', 'pixel_2_0', 'pixel_2_1', 'pixel_2_2', 'pixel_2_3',\n",
              "       'pixel_2_4', 'pixel_2_5', 'pixel_2_6', 'pixel_2_7', 'pixel_3_0',\n",
              "       'pixel_3_1', 'pixel_3_2', 'pixel_3_3', 'pixel_3_4', 'pixel_3_5',\n",
              "       'pixel_3_6', 'pixel_3_7', 'pixel_4_0', 'pixel_4_1', 'pixel_4_2',\n",
              "       'pixel_4_3', 'pixel_4_4', 'pixel_4_5', 'pixel_4_6', 'pixel_4_7',\n",
              "       'pixel_5_0', 'pixel_5_1', 'pixel_5_2', 'pixel_5_3', 'pixel_5_4',\n",
              "       'pixel_5_5', 'pixel_5_6', 'pixel_5_7', 'pixel_6_0', 'pixel_6_1',\n",
              "       'pixel_6_2', 'pixel_6_3', 'pixel_6_4', 'pixel_6_5', 'pixel_6_6',\n",
              "       'pixel_6_7', 'pixel_7_0', 'pixel_7_1', 'pixel_7_2', 'pixel_7_3',\n",
              "       'pixel_7_4', 'pixel_7_5', 'pixel_7_6', 'pixel_7_7'], dtype='<U9')"
            ]
          },
          "execution_count": 1375,
          "metadata": {},
          "output_type": "execute_result"
        }
      ],
      "source": [
        "features = np.array(digits.feature_names)\n",
        "features"
      ]
    },
    {
      "cell_type": "code",
      "execution_count": null,
      "metadata": {
        "colab": {
          "background_save": true
        },
        "id": "JE9rKAo-2E-O",
        "outputId": "0298ad84-63b2-4a4c-9cb2-a41961921a32"
      },
      "outputs": [
        {
          "data": {
            "text/plain": [
              "array([0, 1, 2, 3, 4, 5, 6, 7, 8, 9])"
            ]
          },
          "execution_count": 1376,
          "metadata": {},
          "output_type": "execute_result"
        }
      ],
      "source": [
        "labels = np.array(digits.target_names)\n",
        "labels"
      ]
    },
    {
      "cell_type": "code",
      "execution_count": null,
      "metadata": {
        "colab": {
          "background_save": true
        },
        "id": "HWPyN9SlHt5F",
        "outputId": "cfc18bbb-713f-4746-a81c-17cf2da42b9e"
      },
      "outputs": [
        {
          "data": {
            "text/plain": [
              "dict_keys(['data', 'target', 'frame', 'feature_names', 'target_names', 'images', 'DESCR'])"
            ]
          },
          "execution_count": 1377,
          "metadata": {},
          "output_type": "execute_result"
        }
      ],
      "source": [
        "digits.keys()"
      ]
    },
    {
      "cell_type": "code",
      "execution_count": null,
      "metadata": {
        "colab": {
          "background_save": true
        },
        "id": "_kT5uj8AHEpl",
        "outputId": "c7deeb91-aaf2-44af-d4c2-2bc2de843e4e"
      },
      "outputs": [
        {
          "data": {
            "text/plain": [
              "((1797,), (1797, 64))"
            ]
          },
          "execution_count": 1378,
          "metadata": {},
          "output_type": "execute_result"
        }
      ],
      "source": [
        "# therefore, 1797 are the number of data entries and 64 are the features\n",
        "digits.target.shape, digits.data.shape"
      ]
    },
    {
      "cell_type": "code",
      "execution_count": null,
      "metadata": {
        "colab": {
          "background_save": true
        },
        "id": "SSw17Y2aH1rp",
        "outputId": "aa352438-cd2e-4c47-d45f-7a12493f1cc6"
      },
      "outputs": [
        {
          "data": {
            "text/plain": [
              "array([[ 0.,  0.,  5., ...,  0.,  0.,  0.],\n",
              "       [ 0.,  0.,  0., ..., 10.,  0.,  0.],\n",
              "       [ 0.,  0.,  0., ..., 16.,  9.,  0.],\n",
              "       ...,\n",
              "       [ 0.,  0.,  1., ...,  6.,  0.,  0.],\n",
              "       [ 0.,  0.,  2., ..., 12.,  0.,  0.],\n",
              "       [ 0.,  0., 10., ..., 12.,  1.,  0.]])"
            ]
          },
          "execution_count": 1379,
          "metadata": {},
          "output_type": "execute_result"
        }
      ],
      "source": [
        "digits.data"
      ]
    },
    {
      "cell_type": "code",
      "execution_count": null,
      "metadata": {
        "colab": {
          "background_save": true
        },
        "id": "9Etyme3K2S2d"
      },
      "outputs": [],
      "source": [
        "from sklearn.preprocessing import OneHotEncoder"
      ]
    },
    {
      "cell_type": "code",
      "execution_count": null,
      "metadata": {
        "colab": {
          "background_save": true
        },
        "id": "3QL_3Kkf2agG"
      },
      "outputs": [],
      "source": [
        "ohe = OneHotEncoder()\n",
        "# features_encoded = ohe.fit_transform(features.reshape(-1,1)).toarray()\n",
        "# print(features_encoded.shape)"
      ]
    },
    {
      "cell_type": "code",
      "execution_count": null,
      "metadata": {
        "colab": {
          "background_save": true
        },
        "id": "yPmrrGJf5I4f",
        "outputId": "93fd163f-33c0-4e58-8963-c3eeea3678ad"
      },
      "outputs": [
        {
          "data": {
            "text/plain": [
              "array([[1., 0., 0., ..., 0., 0., 0.],\n",
              "       [0., 1., 0., ..., 0., 0., 0.],\n",
              "       [0., 0., 1., ..., 0., 0., 0.],\n",
              "       ...,\n",
              "       [0., 0., 0., ..., 0., 1., 0.],\n",
              "       [0., 0., 0., ..., 0., 0., 1.],\n",
              "       [0., 0., 0., ..., 0., 1., 0.]])"
            ]
          },
          "execution_count": 1382,
          "metadata": {},
          "output_type": "execute_result"
        }
      ],
      "source": [
        "labels_encoded = ohe.fit_transform(digits.target.reshape(-1,1)).toarray()\n",
        "labels_encoded"
      ]
    },
    {
      "cell_type": "code",
      "execution_count": null,
      "metadata": {
        "colab": {
          "background_save": true
        },
        "id": "YDwUeF105WMG"
      },
      "outputs": [],
      "source": [
        "X_train, X_test, y_train, y_test = train_test_split(digits.data, digits.target, test_size=0.35)"
      ]
    },
    {
      "cell_type": "code",
      "execution_count": null,
      "metadata": {
        "colab": {
          "background_save": true
        },
        "id": "NhzzmSxR52Ka",
        "outputId": "da17232d-df1d-483b-b215-c80f00aaa351"
      },
      "outputs": [
        {
          "data": {
            "text/plain": [
              "array([6, 0, 1, 8, 4, 7, 6, 1, 4, 9, 1, 0, 7, 8, 6, 8, 8, 8, 4, 7, 0, 7,\n",
              "       2, 0, 0, 3, 2, 6, 6, 4, 3, 0, 9, 8, 8, 5, 4, 0, 1, 8, 8, 0, 2, 3,\n",
              "       9, 2, 4, 9, 6, 8, 7, 1, 2, 6, 0, 1, 3, 7, 7, 9, 4, 7, 5, 7, 0, 1,\n",
              "       7, 9, 0, 8, 0, 1, 9, 0, 9, 4, 6, 0, 1, 3, 6, 8, 8, 7, 7, 8, 6, 5,\n",
              "       7, 7, 5, 7, 5, 8, 6, 6, 7, 8, 3, 7, 5, 2, 1, 5, 6, 1, 6, 8, 8, 8,\n",
              "       0, 2, 6, 0, 9, 9, 6, 0, 4, 1, 6, 0, 0, 8, 7, 6, 8, 4, 2, 4, 8, 7,\n",
              "       7, 3, 7, 6, 6, 9, 4, 0, 8, 5, 4, 2, 5, 7, 6, 3, 8, 3, 0, 4, 0, 5,\n",
              "       6, 6, 7, 4, 4, 2, 1, 1, 1, 0, 0, 9, 9, 7, 7, 4, 7, 4, 8, 0, 0, 4,\n",
              "       1, 7, 8, 8, 5, 1, 3, 5, 2, 0, 4, 6, 2, 5, 3, 2, 1, 8, 7, 4, 6, 8,\n",
              "       6, 2, 5, 4, 0, 1, 5, 4, 8, 2, 3, 3, 8, 5, 1, 7, 9, 6, 5, 0, 0, 8,\n",
              "       8, 5, 7, 3, 1, 7, 8, 9, 8, 3, 3, 5, 5, 4, 7, 7, 5, 5, 0, 0, 1, 6,\n",
              "       6, 9, 5, 1, 5, 7, 0, 0, 6, 9, 7, 3, 6, 7, 1, 6, 5, 6, 1, 1, 4, 7,\n",
              "       4, 2, 1, 7, 1, 8, 3, 2, 3, 7, 8, 7, 9, 5, 8, 8, 4, 9, 3, 9, 8, 4,\n",
              "       8, 3, 1, 7, 7, 5, 5, 5, 2, 4, 6, 0, 9, 0, 6, 0, 9, 1, 7, 2, 4, 9,\n",
              "       5, 5, 1, 9, 3, 2, 0, 0, 7, 5, 8, 3, 9, 2, 8, 5, 8, 0, 7, 5, 0, 7,\n",
              "       5, 4, 7, 8, 6, 9, 6, 8, 3, 6, 7, 0, 8, 4, 5, 6, 0, 8, 1, 9, 3, 1,\n",
              "       7, 2, 1, 8, 0, 2, 4, 6, 5, 8, 0, 3, 0, 5, 5, 3, 9, 6, 6, 7, 1, 9,\n",
              "       8, 4, 9, 8, 5, 1, 7, 3, 8, 7, 6, 8, 8, 1, 8, 4, 7, 5, 0, 7, 6, 3,\n",
              "       4, 3, 7, 9, 2, 8, 8, 0, 7, 5, 3, 3, 1, 4, 8, 6, 4, 7, 6, 0, 8, 7,\n",
              "       7, 7, 4, 5, 1, 0, 7, 1, 9, 3, 6, 3, 7, 3, 7, 6, 1, 4, 4, 6, 7, 8,\n",
              "       9, 1, 7, 1, 8, 7, 4, 5, 5, 8, 9, 4, 1, 5, 0, 8, 8, 8, 3, 0, 8, 8,\n",
              "       2, 8, 1, 3, 0, 5, 8, 0, 6, 6, 9, 3, 0, 4, 8, 0, 3, 3, 1, 4, 4, 3,\n",
              "       6, 4, 6, 5, 7, 8, 7, 9, 9, 0, 2, 6, 6, 6, 3, 3, 7, 8, 2, 3, 7, 7,\n",
              "       7, 9, 6, 2, 2, 9, 1, 7, 7, 2, 3, 4, 0, 8, 8, 6, 7, 5, 7, 2, 5, 1,\n",
              "       0, 9, 0, 9, 3, 2, 5, 1, 5, 1, 4, 0, 7, 6, 8, 8, 7, 0, 9, 8, 7, 9,\n",
              "       3, 3, 7, 3, 5, 3, 8, 5, 3, 3, 5, 2, 7, 3, 1, 4, 1, 7, 9, 8, 0, 6,\n",
              "       7, 7, 6, 6, 1, 5, 0, 6, 4, 3, 8, 3, 0, 3, 5, 6, 0, 1, 7, 8, 2, 4,\n",
              "       1, 5, 9, 3, 2, 9, 2, 9, 6, 2, 5, 4, 8, 6, 2, 5, 7, 7, 7, 6, 7, 4,\n",
              "       2, 8, 8, 9, 5, 8, 6, 7, 8, 4, 4, 6, 6])"
            ]
          },
          "execution_count": 1384,
          "metadata": {},
          "output_type": "execute_result"
        }
      ],
      "source": [
        "gnb.fit(X_train, y_train)\n",
        "predictions = gnb.predict(X_test)\n",
        "predictions"
      ]
    },
    {
      "cell_type": "code",
      "execution_count": null,
      "metadata": {
        "colab": {
          "background_save": true
        },
        "id": "0ppomxyV7ouC",
        "outputId": "6ece11b6-0812-473b-c87a-0164af66edfd"
      },
      "outputs": [
        {
          "data": {
            "text/plain": [
              "0.8664546899841018"
            ]
          },
          "execution_count": 1385,
          "metadata": {},
          "output_type": "execute_result"
        }
      ],
      "source": [
        "precision_score(y_test, predictions, average=\"micro\")"
      ]
    },
    {
      "cell_type": "code",
      "execution_count": null,
      "metadata": {
        "colab": {
          "background_save": true
        },
        "id": "6JIj0uk2UzRS",
        "outputId": "64b48668-7e32-4578-daf9-ff9b5559d3ee"
      },
      "outputs": [
        {
          "data": {
            "text/plain": [
              "0.8664546899841018"
            ]
          },
          "execution_count": 1386,
          "metadata": {},
          "output_type": "execute_result"
        }
      ],
      "source": [
        "accuracy_score(y_test, predictions)"
      ]
    },
    {
      "cell_type": "code",
      "execution_count": null,
      "metadata": {
        "colab": {
          "background_save": true
        },
        "id": "LeH7GprMU9dU",
        "outputId": "d5db1270-b525-4fc7-db11-80d69e4080ae"
      },
      "outputs": [
        {
          "data": {
            "text/plain": [
              "0.8664546899841018"
            ]
          },
          "execution_count": 1387,
          "metadata": {},
          "output_type": "execute_result"
        }
      ],
      "source": [
        "recall_score(y_test, predictions, average=\"micro\")"
      ]
    }
  ],
  "metadata": {
    "colab": {
      "provenance": []
    },
    "kernelspec": {
      "display_name": "Python 3",
      "name": "python3"
    },
    "language_info": {
      "name": "python"
    }
  },
  "nbformat": 4,
  "nbformat_minor": 0
}