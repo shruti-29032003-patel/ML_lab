{
  "nbformat": 4,
  "nbformat_minor": 0,
  "metadata": {
    "colab": {
      "provenance": []
    },
    "kernelspec": {
      "name": "python3",
      "display_name": "Python 3"
    },
    "language_info": {
      "name": "python"
    }
  },
  "cells": [
    {
      "cell_type": "code",
      "execution_count": null,
      "metadata": {
        "id": "45U_Wn4pEoLK"
      },
      "outputs": [],
      "source": [
        "import numpy as np\n",
        "import torch\n",
        "import torch.nn as nn\n",
        "from torch.autograd import Variable\n",
        "from torch.utils.data import TensorDataset, DataLoader\n",
        "from sklearn.model_selection import train_test_split\n",
        "from sklearn.metrics import mean_squared_error\n",
        "from sklearn.linear_model import LinearRegression\n",
        "import tensorflow as tf\n",
        "from sklearn.metrics import mean_squared_error"
      ]
    },
    {
      "cell_type": "markdown",
      "source": [
        "Data Required to train the model"
      ],
      "metadata": {
        "id": "zAoBDQTkGxbG"
      }
    },
    {
      "cell_type": "code",
      "source": [
        "inputs = np.array([[73, 67, 43], \n",
        "                   [91, 88, 64], \n",
        "                   [87, 134, 58], \n",
        "                   [102, 43, 37], \n",
        "                   [69, 96, 70], \n",
        "                   [73, 67, 43], \n",
        "                   [91, 88, 64], \n",
        "                   [87, 134, 58], \n",
        "                   [102, 43, 37], \n",
        "                   [69,96, 70], \n",
        "                   [73, 67, 43], \n",
        "                   [91, 88, 64], \n",
        "                   [87, 134, 58], \n",
        "                   [102, 43, 37], \n",
        "                   [69, 96,70]], dtype='float32')\n",
        "\n",
        "targets = np.array([[56, 70], \n",
        "                    [81, 101], \n",
        "                    [119, 133], \n",
        "                    [22, 37], \n",
        "                    [103, 119], \n",
        "                    [56, 70], \n",
        "                    [81, 101], \n",
        "                    [119, 133], \n",
        "                    [22, 37], \n",
        "                    [103, 119], \n",
        "                    [56, 70], \n",
        "                    [81, 101], \n",
        "                    [119, 133], \n",
        "                    [22, 37], \n",
        "                    [103, 119]], dtype='float32')"
      ],
      "metadata": {
        "id": "CKRoi8-FFdBQ"
      },
      "execution_count": null,
      "outputs": []
    },
    {
      "cell_type": "markdown",
      "source": [
        "Pytorch Implementation"
      ],
      "metadata": {
        "id": "xDCeIphs1FvM"
      }
    },
    {
      "cell_type": "code",
      "source": [
        "inputs = torch.from_numpy(inputs)\n",
        "targets = torch.from_numpy(targets)"
      ],
      "metadata": {
        "id": "WAJ9GSqcHZLM"
      },
      "execution_count": null,
      "outputs": []
    },
    {
      "cell_type": "code",
      "source": [
        "tensorDataset = TensorDataset(inputs,targets)\n",
        "tensorDataset[0]"
      ],
      "metadata": {
        "colab": {
          "base_uri": "https://localhost:8080/"
        },
        "id": "EHz9x9Oy1-_s",
        "outputId": "e1b95bcb-4472-4205-dba9-63d37edcf686"
      },
      "execution_count": null,
      "outputs": [
        {
          "output_type": "execute_result",
          "data": {
            "text/plain": [
              "(tensor([73., 67., 43.]), tensor([56., 70.]))"
            ]
          },
          "metadata": {},
          "execution_count": 8
        }
      ]
    },
    {
      "cell_type": "code",
      "source": [
        "class linearRegression(torch.nn.Module):\n",
        "    def __init__(self, inputSize, outputSize):\n",
        "        super(linearRegression, self).__init__()\n",
        "        self.linear = torch.nn.Linear(inputSize, outputSize)\n",
        "        \n",
        "    def forward(self, x):\n",
        "        out = self.linear(x)\n",
        "        return out"
      ],
      "metadata": {
        "id": "OwH3KijOHiY4"
      },
      "execution_count": null,
      "outputs": []
    },
    {
      "cell_type": "code",
      "source": [
        "alpha = 0.00009\n",
        "model = linearRegression(inputs.size()[1], targets.size()[1])\n",
        "epochs = 100\n",
        "\n",
        "criterion = torch.nn.MSELoss(reduction=\"mean\")\n",
        "optimizer = torch.optim.SGD(model.parameters(), lr=alpha)\n",
        "\n",
        "for epoch in range(epochs):\n",
        "    optimizer.zero_grad()\n",
        "    outputs = model(inputs)\n",
        "    loss = criterion(outputs, targets)\n",
        "    print(loss)\n",
        "    loss.backward()\n",
        "    optimizer.step()"
      ],
      "metadata": {
        "id": "D_W4j7JJJZbQ",
        "colab": {
          "base_uri": "https://localhost:8080/"
        },
        "outputId": "bbc269cb-8e66-4f9c-835f-c4e45a42d35c"
      },
      "execution_count": null,
      "outputs": [
        {
          "output_type": "stream",
          "name": "stdout",
          "text": [
            "tensor(7865.5737, grad_fn=<MseLossBackward0>)\n",
            "tensor(3010.0474, grad_fn=<MseLossBackward0>)\n",
            "tensor(1185.8268, grad_fn=<MseLossBackward0>)\n",
            "tensor(497.1205, grad_fn=<MseLossBackward0>)\n",
            "tensor(234.1377, grad_fn=<MseLossBackward0>)\n",
            "tensor(131.0893, grad_fn=<MseLossBackward0>)\n",
            "tensor(88.4122, grad_fn=<MseLossBackward0>)\n",
            "tensor(68.7785, grad_fn=<MseLossBackward0>)\n",
            "tensor(58.1653, grad_fn=<MseLossBackward0>)\n",
            "tensor(51.2795, grad_fn=<MseLossBackward0>)\n",
            "tensor(46.1010, grad_fn=<MseLossBackward0>)\n",
            "tensor(41.8391, grad_fn=<MseLossBackward0>)\n",
            "tensor(38.1673, grad_fn=<MseLossBackward0>)\n",
            "tensor(34.9361, grad_fn=<MseLossBackward0>)\n",
            "tensor(32.0655, grad_fn=<MseLossBackward0>)\n",
            "tensor(29.5039, grad_fn=<MseLossBackward0>)\n",
            "tensor(27.2130, grad_fn=<MseLossBackward0>)\n",
            "tensor(25.1614, grad_fn=<MseLossBackward0>)\n",
            "tensor(23.3222, grad_fn=<MseLossBackward0>)\n",
            "tensor(21.6720, grad_fn=<MseLossBackward0>)\n",
            "tensor(20.1899, grad_fn=<MseLossBackward0>)\n",
            "tensor(18.8576, grad_fn=<MseLossBackward0>)\n",
            "tensor(17.6587, grad_fn=<MseLossBackward0>)\n",
            "tensor(16.5786, grad_fn=<MseLossBackward0>)\n",
            "tensor(15.6044, grad_fn=<MseLossBackward0>)\n",
            "tensor(14.7247, grad_fn=<MseLossBackward0>)\n",
            "tensor(13.9291, grad_fn=<MseLossBackward0>)\n",
            "tensor(13.2087, grad_fn=<MseLossBackward0>)\n",
            "tensor(12.5552, grad_fn=<MseLossBackward0>)\n",
            "tensor(11.9615, grad_fn=<MseLossBackward0>)\n",
            "tensor(11.4211, grad_fn=<MseLossBackward0>)\n",
            "tensor(10.9284, grad_fn=<MseLossBackward0>)\n",
            "tensor(10.4784, grad_fn=<MseLossBackward0>)\n",
            "tensor(10.0663, grad_fn=<MseLossBackward0>)\n",
            "tensor(9.6883, grad_fn=<MseLossBackward0>)\n",
            "tensor(9.3409, grad_fn=<MseLossBackward0>)\n",
            "tensor(9.0207, grad_fn=<MseLossBackward0>)\n",
            "tensor(8.7249, grad_fn=<MseLossBackward0>)\n",
            "tensor(8.4511, grad_fn=<MseLossBackward0>)\n",
            "tensor(8.1970, grad_fn=<MseLossBackward0>)\n",
            "tensor(7.9605, grad_fn=<MseLossBackward0>)\n",
            "tensor(7.7400, grad_fn=<MseLossBackward0>)\n",
            "tensor(7.5337, grad_fn=<MseLossBackward0>)\n",
            "tensor(7.3404, grad_fn=<MseLossBackward0>)\n",
            "tensor(7.1587, grad_fn=<MseLossBackward0>)\n",
            "tensor(6.9875, grad_fn=<MseLossBackward0>)\n",
            "tensor(6.8258, grad_fn=<MseLossBackward0>)\n",
            "tensor(6.6727, grad_fn=<MseLossBackward0>)\n",
            "tensor(6.5274, grad_fn=<MseLossBackward0>)\n",
            "tensor(6.3892, grad_fn=<MseLossBackward0>)\n",
            "tensor(6.2575, grad_fn=<MseLossBackward0>)\n",
            "tensor(6.1316, grad_fn=<MseLossBackward0>)\n",
            "tensor(6.0112, grad_fn=<MseLossBackward0>)\n",
            "tensor(5.8957, grad_fn=<MseLossBackward0>)\n",
            "tensor(5.7847, grad_fn=<MseLossBackward0>)\n",
            "tensor(5.6779, grad_fn=<MseLossBackward0>)\n",
            "tensor(5.5749, grad_fn=<MseLossBackward0>)\n",
            "tensor(5.4755, grad_fn=<MseLossBackward0>)\n",
            "tensor(5.3794, grad_fn=<MseLossBackward0>)\n",
            "tensor(5.2863, grad_fn=<MseLossBackward0>)\n",
            "tensor(5.1961, grad_fn=<MseLossBackward0>)\n",
            "tensor(5.1085, grad_fn=<MseLossBackward0>)\n",
            "tensor(5.0234, grad_fn=<MseLossBackward0>)\n",
            "tensor(4.9406, grad_fn=<MseLossBackward0>)\n",
            "tensor(4.8600, grad_fn=<MseLossBackward0>)\n",
            "tensor(4.7815, grad_fn=<MseLossBackward0>)\n",
            "tensor(4.7049, grad_fn=<MseLossBackward0>)\n",
            "tensor(4.6301, grad_fn=<MseLossBackward0>)\n",
            "tensor(4.5571, grad_fn=<MseLossBackward0>)\n",
            "tensor(4.4858, grad_fn=<MseLossBackward0>)\n",
            "tensor(4.4161, grad_fn=<MseLossBackward0>)\n",
            "tensor(4.3479, grad_fn=<MseLossBackward0>)\n",
            "tensor(4.2811, grad_fn=<MseLossBackward0>)\n",
            "tensor(4.2158, grad_fn=<MseLossBackward0>)\n",
            "tensor(4.1518, grad_fn=<MseLossBackward0>)\n",
            "tensor(4.0890, grad_fn=<MseLossBackward0>)\n",
            "tensor(4.0275, grad_fn=<MseLossBackward0>)\n",
            "tensor(3.9673, grad_fn=<MseLossBackward0>)\n",
            "tensor(3.9082, grad_fn=<MseLossBackward0>)\n",
            "tensor(3.8502, grad_fn=<MseLossBackward0>)\n",
            "tensor(3.7933, grad_fn=<MseLossBackward0>)\n",
            "tensor(3.7375, grad_fn=<MseLossBackward0>)\n",
            "tensor(3.6827, grad_fn=<MseLossBackward0>)\n",
            "tensor(3.6289, grad_fn=<MseLossBackward0>)\n",
            "tensor(3.5760, grad_fn=<MseLossBackward0>)\n",
            "tensor(3.5242, grad_fn=<MseLossBackward0>)\n",
            "tensor(3.4732, grad_fn=<MseLossBackward0>)\n",
            "tensor(3.4232, grad_fn=<MseLossBackward0>)\n",
            "tensor(3.3740, grad_fn=<MseLossBackward0>)\n",
            "tensor(3.3258, grad_fn=<MseLossBackward0>)\n",
            "tensor(3.2783, grad_fn=<MseLossBackward0>)\n",
            "tensor(3.2317, grad_fn=<MseLossBackward0>)\n",
            "tensor(3.1859, grad_fn=<MseLossBackward0>)\n",
            "tensor(3.1409, grad_fn=<MseLossBackward0>)\n",
            "tensor(3.0967, grad_fn=<MseLossBackward0>)\n",
            "tensor(3.0532, grad_fn=<MseLossBackward0>)\n",
            "tensor(3.0105, grad_fn=<MseLossBackward0>)\n",
            "tensor(2.9685, grad_fn=<MseLossBackward0>)\n",
            "tensor(2.9272, grad_fn=<MseLossBackward0>)\n",
            "tensor(2.8867, grad_fn=<MseLossBackward0>)\n"
          ]
        }
      ]
    },
    {
      "cell_type": "code",
      "source": [
        "predicted = model(inputs)\n",
        "predicted , targets"
      ],
      "metadata": {
        "id": "fgKdDx4uM449",
        "colab": {
          "base_uri": "https://localhost:8080/"
        },
        "outputId": "309aa00b-3619-496c-b547-32c2a3781501"
      },
      "execution_count": null,
      "outputs": [
        {
          "output_type": "execute_result",
          "data": {
            "text/plain": [
              "(tensor([[ 57.1837,  70.4761],\n",
              "         [ 81.6164,  99.2966],\n",
              "         [120.0051, 135.8138],\n",
              "         [ 21.4759,  37.9026],\n",
              "         [100.5925, 116.2169],\n",
              "         [ 57.1837,  70.4761],\n",
              "         [ 81.6164,  99.2966],\n",
              "         [120.0051, 135.8138],\n",
              "         [ 21.4759,  37.9026],\n",
              "         [100.5925, 116.2169],\n",
              "         [ 57.1837,  70.4761],\n",
              "         [ 81.6164,  99.2966],\n",
              "         [120.0051, 135.8138],\n",
              "         [ 21.4759,  37.9026],\n",
              "         [100.5925, 116.2169]], grad_fn=<AddmmBackward0>),\n",
              " tensor([[ 56.,  70.],\n",
              "         [ 81., 101.],\n",
              "         [119., 133.],\n",
              "         [ 22.,  37.],\n",
              "         [103., 119.],\n",
              "         [ 56.,  70.],\n",
              "         [ 81., 101.],\n",
              "         [119., 133.],\n",
              "         [ 22.,  37.],\n",
              "         [103., 119.],\n",
              "         [ 56.,  70.],\n",
              "         [ 81., 101.],\n",
              "         [119., 133.],\n",
              "         [ 22.,  37.],\n",
              "         [103., 119.]]))"
            ]
          },
          "metadata": {},
          "execution_count": 11
        }
      ]
    },
    {
      "cell_type": "markdown",
      "source": [
        "Sklearn Implementation"
      ],
      "metadata": {
        "id": "5xUGRnZq2Qpp"
      }
    },
    {
      "cell_type": "code",
      "source": [
        "X_train, X_test, y_train, y_test = train_test_split(inputs, targets, test_size=0.2)\n",
        "\n",
        "model = LinearRegression()\n",
        "model.fit(X_train, y_train)\n",
        "\n",
        "predictions = model.predict(X_test)\n",
        "\n",
        "err = mean_squared_error(y_test, predictions)\n",
        "predictions, y_test,model.coef_,err"
      ],
      "metadata": {
        "colab": {
          "base_uri": "https://localhost:8080/"
        },
        "id": "ie4Fsnmw6jXi",
        "outputId": "9bdad727-c41a-4d5f-e5f4-e9488a9710e7"
      },
      "execution_count": null,
      "outputs": [
        {
          "output_type": "execute_result",
          "data": {
            "text/plain": [
              "(array([[ 82.46687 , 100.897194],\n",
              "        [101.80545 , 119.08373 ],\n",
              "        [ 21.059692,  37.065907]], dtype=float32), tensor([[ 81., 101.],\n",
              "         [103., 119.],\n",
              "         [ 22.,  37.]]), array([[-0.3779492 ,  0.8492347 ,  0.7049694 ],\n",
              "        [-0.28583288,  0.7939031 ,  0.9244994 ]], dtype=float32), 0.7474613)"
            ]
          },
          "metadata": {},
          "execution_count": 16
        }
      ]
    },
    {
      "cell_type": "code",
      "source": [
        "mean_squared_error(predictions, y_test)"
      ],
      "metadata": {
        "colab": {
          "base_uri": "https://localhost:8080/"
        },
        "id": "DCFwM7txA3gS",
        "outputId": "898e2f6f-003a-4933-8447-922d4bd27f02"
      },
      "execution_count": null,
      "outputs": [
        {
          "output_type": "execute_result",
          "data": {
            "text/plain": [
              "0.7067486"
            ]
          },
          "metadata": {},
          "execution_count": 10
        }
      ]
    },
    {
      "cell_type": "markdown",
      "source": [
        "Tensorflow Implementation"
      ],
      "metadata": {
        "id": "VuJ1OEU19d2a"
      }
    },
    {
      "cell_type": "code",
      "source": [
        "learning_rate = 0.0009\n",
        "training_epochs = 100\n",
        "\n",
        "Weights1 = np.random.normal(size=(X_train[0].shape))\n",
        "Weights2 = np.random.normal(size=(X_train[0].shape))\n",
        "Bais1 = [1]\n",
        "Bais2 = [2]\n"
      ],
      "metadata": {
        "id": "rU3wDgK09gLD"
      },
      "execution_count": null,
      "outputs": []
    },
    {
      "cell_type": "code",
      "source": [
        "predictions1 = tf.math.reduce_sum(tf.add(tf.multiply(X_train, Weights1), Bais1), axis=1)\n",
        "predictions2 = tf.math.reduce_sum(tf.add(tf.multiply(X_train, Weights2), Bais2), axis=1)\n",
        "predictions1\n",
        "\n",
        "prediction = tf. convert_to_tensor(np.transpose(tf.concat([[predictions1,predictions2]], axis=1)))\n",
        "prediction"
      ],
      "metadata": {
        "colab": {
          "base_uri": "https://localhost:8080/"
        },
        "id": "R1TXs6mo-XjJ",
        "outputId": "dab79f2f-e39e-4c31-c2f1-af5cbf59cfcc"
      },
      "execution_count": null,
      "outputs": [
        {
          "output_type": "execute_result",
          "data": {
            "text/plain": [
              "<tf.Tensor: shape=(12, 2), dtype=float32, numpy=\n",
              "array([[ 5.7780075e-01, -1.7177267e+02],\n",
              "       [ 5.8937750e+00, -5.6257240e+01],\n",
              "       [ 5.7780075e-01, -1.7177267e+02],\n",
              "       [-8.3081245e-02, -1.2797947e+02],\n",
              "       [ 5.8937750e+00, -5.6257240e+01],\n",
              "       [-3.2574196e+00, -1.4455942e+02],\n",
              "       [ 2.0412159e+00, -9.0626831e+01],\n",
              "       [-3.2574196e+00, -1.4455942e+02],\n",
              "       [ 2.0412159e+00, -9.0626831e+01],\n",
              "       [-8.3081245e-02, -1.2797947e+02],\n",
              "       [-3.2574196e+00, -1.4455942e+02],\n",
              "       [ 5.7780075e-01, -1.7177267e+02]], dtype=float32)>"
            ]
          },
          "metadata": {},
          "execution_count": 12
        }
      ]
    },
    {
      "cell_type": "code",
      "source": [
        "loss =  tf.math.reduce_sum(tf.pow(prediction - y_train, 2) / (2 * X_train.shape[0]),axis = 0)\n",
        "loss "
      ],
      "metadata": {
        "colab": {
          "base_uri": "https://localhost:8080/"
        },
        "id": "6dnGAadL22F1",
        "outputId": "c0cf2968-232e-48b0-ddea-049684471bec"
      },
      "execution_count": null,
      "outputs": [
        {
          "output_type": "execute_result",
          "data": {
            "text/plain": [
              "<tf.Tensor: shape=(2,), dtype=float32, numpy=array([ 3976.426, 27537.867], dtype=float32)>"
            ]
          },
          "metadata": {},
          "execution_count": 13
        }
      ]
    }
  ]
}